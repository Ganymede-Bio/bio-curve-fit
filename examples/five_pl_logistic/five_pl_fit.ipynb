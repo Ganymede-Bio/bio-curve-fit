{
 "cells": [
  {
   "cell_type": "markdown",
   "metadata": {},
   "source": [
    "<a target=\"_blank\" href=\"https://colab.research.google.com/github/Ganymede-Bio/bio-curve-fit/blob/main/examples/five_pl_logistic/five_pl_fit.ipynb\">\n",
    "  <img src=\"https://colab.research.google.com/assets/colab-badge.svg\" alt=\"Open In Colab\"/>\n",
    "</a>"
   ]
  },
  {
   "cell_type": "code",
   "metadata": {
    "ExecuteTime": {
     "end_time": "2024-11-20T07:44:50.804655Z",
     "start_time": "2024-11-20T07:44:50.216881Z"
    }
   },
   "source": [
    "! pip install bio-curve-fit"
   ],
   "outputs": [
    {
     "name": "stdout",
     "output_type": "stream",
     "text": [
      "Requirement already satisfied: bio-curve-fit in /Users/nickflores_ganymede/Library/Caches/pypoetry/virtualenvs/bio-curve-fit-WuAbQiBo-py3.11/lib/python3.11/site-packages (0.2.2)\r\n",
      "Requirement already satisfied: adjusttext<2.0.0,>=1.2.0 in /Users/nickflores_ganymede/Library/Caches/pypoetry/virtualenvs/bio-curve-fit-WuAbQiBo-py3.11/lib/python3.11/site-packages (from bio-curve-fit) (1.2.0)\r\n",
      "Requirement already satisfied: matplotlib>=3.7.1 in /Users/nickflores_ganymede/Library/Caches/pypoetry/virtualenvs/bio-curve-fit-WuAbQiBo-py3.11/lib/python3.11/site-packages (from bio-curve-fit) (3.7.5)\r\n",
      "Requirement already satisfied: pandas>=1.5.3 in /Users/nickflores_ganymede/Library/Caches/pypoetry/virtualenvs/bio-curve-fit-WuAbQiBo-py3.11/lib/python3.11/site-packages (from bio-curve-fit) (2.0.3)\r\n",
      "Requirement already satisfied: scikit-learn>=1.2.2 in /Users/nickflores_ganymede/Library/Caches/pypoetry/virtualenvs/bio-curve-fit-WuAbQiBo-py3.11/lib/python3.11/site-packages (from bio-curve-fit) (1.3.2)\r\n",
      "Requirement already satisfied: numpy in /Users/nickflores_ganymede/Library/Caches/pypoetry/virtualenvs/bio-curve-fit-WuAbQiBo-py3.11/lib/python3.11/site-packages (from adjusttext<2.0.0,>=1.2.0->bio-curve-fit) (1.24.4)\r\n",
      "Requirement already satisfied: scipy in /Users/nickflores_ganymede/Library/Caches/pypoetry/virtualenvs/bio-curve-fit-WuAbQiBo-py3.11/lib/python3.11/site-packages (from adjusttext<2.0.0,>=1.2.0->bio-curve-fit) (1.9.3)\r\n",
      "Requirement already satisfied: contourpy>=1.0.1 in /Users/nickflores_ganymede/Library/Caches/pypoetry/virtualenvs/bio-curve-fit-WuAbQiBo-py3.11/lib/python3.11/site-packages (from matplotlib>=3.7.1->bio-curve-fit) (1.1.1)\r\n",
      "Requirement already satisfied: cycler>=0.10 in /Users/nickflores_ganymede/Library/Caches/pypoetry/virtualenvs/bio-curve-fit-WuAbQiBo-py3.11/lib/python3.11/site-packages (from matplotlib>=3.7.1->bio-curve-fit) (0.12.1)\r\n",
      "Requirement already satisfied: fonttools>=4.22.0 in /Users/nickflores_ganymede/Library/Caches/pypoetry/virtualenvs/bio-curve-fit-WuAbQiBo-py3.11/lib/python3.11/site-packages (from matplotlib>=3.7.1->bio-curve-fit) (4.53.1)\r\n",
      "Requirement already satisfied: kiwisolver>=1.0.1 in /Users/nickflores_ganymede/Library/Caches/pypoetry/virtualenvs/bio-curve-fit-WuAbQiBo-py3.11/lib/python3.11/site-packages (from matplotlib>=3.7.1->bio-curve-fit) (1.4.5)\r\n",
      "Requirement already satisfied: packaging>=20.0 in /Users/nickflores_ganymede/Library/Caches/pypoetry/virtualenvs/bio-curve-fit-WuAbQiBo-py3.11/lib/python3.11/site-packages (from matplotlib>=3.7.1->bio-curve-fit) (24.1)\r\n",
      "Requirement already satisfied: pillow>=6.2.0 in /Users/nickflores_ganymede/Library/Caches/pypoetry/virtualenvs/bio-curve-fit-WuAbQiBo-py3.11/lib/python3.11/site-packages (from matplotlib>=3.7.1->bio-curve-fit) (10.4.0)\r\n",
      "Requirement already satisfied: pyparsing>=2.3.1 in /Users/nickflores_ganymede/Library/Caches/pypoetry/virtualenvs/bio-curve-fit-WuAbQiBo-py3.11/lib/python3.11/site-packages (from matplotlib>=3.7.1->bio-curve-fit) (3.1.4)\r\n",
      "Requirement already satisfied: python-dateutil>=2.7 in /Users/nickflores_ganymede/Library/Caches/pypoetry/virtualenvs/bio-curve-fit-WuAbQiBo-py3.11/lib/python3.11/site-packages (from matplotlib>=3.7.1->bio-curve-fit) (2.9.0.post0)\r\n",
      "Requirement already satisfied: pytz>=2020.1 in /Users/nickflores_ganymede/Library/Caches/pypoetry/virtualenvs/bio-curve-fit-WuAbQiBo-py3.11/lib/python3.11/site-packages (from pandas>=1.5.3->bio-curve-fit) (2024.1)\r\n",
      "Requirement already satisfied: tzdata>=2022.1 in /Users/nickflores_ganymede/Library/Caches/pypoetry/virtualenvs/bio-curve-fit-WuAbQiBo-py3.11/lib/python3.11/site-packages (from pandas>=1.5.3->bio-curve-fit) (2024.1)\r\n",
      "Requirement already satisfied: joblib>=1.1.1 in /Users/nickflores_ganymede/Library/Caches/pypoetry/virtualenvs/bio-curve-fit-WuAbQiBo-py3.11/lib/python3.11/site-packages (from scikit-learn>=1.2.2->bio-curve-fit) (1.4.2)\r\n",
      "Requirement already satisfied: threadpoolctl>=2.0.0 in /Users/nickflores_ganymede/Library/Caches/pypoetry/virtualenvs/bio-curve-fit-WuAbQiBo-py3.11/lib/python3.11/site-packages (from scikit-learn>=1.2.2->bio-curve-fit) (3.5.0)\r\n",
      "Requirement already satisfied: six>=1.5 in /Users/nickflores_ganymede/Library/Caches/pypoetry/virtualenvs/bio-curve-fit-WuAbQiBo-py3.11/lib/python3.11/site-packages (from python-dateutil>=2.7->matplotlib>=3.7.1->bio-curve-fit) (1.16.0)\r\n",
      "\r\n",
      "\u001B[1m[\u001B[0m\u001B[34;49mnotice\u001B[0m\u001B[1;39;49m]\u001B[0m\u001B[39;49m A new release of pip is available: \u001B[0m\u001B[31;49m24.1\u001B[0m\u001B[39;49m -> \u001B[0m\u001B[32;49m24.3.1\u001B[0m\r\n",
      "\u001B[1m[\u001B[0m\u001B[34;49mnotice\u001B[0m\u001B[1;39;49m]\u001B[0m\u001B[39;49m To update, run: \u001B[0m\u001B[32;49mpip install --upgrade pip\u001B[0m\r\n"
     ]
    }
   ],
   "execution_count": 1
  },
  {
   "cell_type": "code",
   "metadata": {
    "ExecuteTime": {
     "end_time": "2024-11-20T07:44:52.880521Z",
     "start_time": "2024-11-20T07:44:50.807560Z"
    }
   },
   "source": [
    "import pandas as pd\n",
    "import io\n",
    "import numpy as np\n",
    "from matplotlib import pyplot as plt\n",
    "from bio_curve_fit.logistic import FourPLLogistic, FivePLLogistic\n",
    "from bio_curve_fit.plotting import plot_standard_curve "
   ],
   "outputs": [],
   "execution_count": 2
  },
  {
   "cell_type": "markdown",
   "metadata": {},
   "source": "# Fitting a Five-Parameter Logistic Model to Create a Standard Curve using `bio-curve-fit`"
  },
  {
   "cell_type": "markdown",
   "metadata": {},
   "source": "For the purposes of demonstration, let's imagine we have 20 samples with a known concentration (standards) of an analyte. We've tested these standards, in triplicate, on an appropriate instrument and recorded the observed response signal. "
  },
  {
   "cell_type": "code",
   "metadata": {
    "ExecuteTime": {
     "end_time": "2024-11-20T08:16:56.733654Z",
     "start_time": "2024-11-20T08:16:56.726548Z"
    }
   },
   "source": [
    "standard_curve_csv = \"\"\"\n",
    "known_concentration,instrument_response\n",
    "0.01,0.002069117990872958\n",
    "0.01,0.0020132494933515024\n",
    "0.01,0.0021169840704374815\n",
    "0.01438449888287663,0.001959532926455008\n",
    "0.01438449888287663,0.0019884553193551735\n",
    "0.01438449888287663,0.0019444061051506441\n",
    "0.0206913808111479,0.0019060618132396786\n",
    "0.0206913808111479,0.001948195812428334\n",
    "0.0206913808111479,0.0018817446798727263\n",
    "0.029763514416313176,0.0020199075226226327\n",
    "0.029763514416313176,0.00208893443732371\n",
    "0.029763514416313176,0.0020935290065508014\n",
    "0.04281332398719394,0.00232136833694934\n",
    "0.04281332398719394,0.0023468274954318875\n",
    "0.04281332398719394,0.0023670255256337098\n",
    "0.06158482110660264,0.002350039420066734\n",
    "0.06158482110660264,0.0024226848713439883\n",
    "0.06158482110660264,0.002328199275919817\n",
    "0.08858667904100823,0.0034268951061987517\n",
    "0.08858667904100823,0.0033724552342330205\n",
    "0.08858667904100823,0.003333991357245253\n",
    "0.12742749857031335,0.005976982077588455\n",
    "0.12742749857031335,0.005894796802448098\n",
    "0.12742749857031335,0.006183810672175324\n",
    "0.18329807108324356,0.01429016019812947\n",
    "0.18329807108324356,0.014007072131872945\n",
    "0.18329807108324356,0.01451425437925086\n",
    "0.26366508987303583,0.03919501065794866\n",
    "0.26366508987303583,0.03816319608099027\n",
    "0.26366508987303583,0.04029788595266494\n",
    "0.37926901907322497,0.11012486126580442\n",
    "0.37926901907322497,0.10773997727674114\n",
    "0.37926901907322497,0.11289584492731791\n",
    "0.5455594781168517,0.28788349523919826\n",
    "0.5455594781168517,0.2874878807698649\n",
    "0.5455594781168517,0.2806375306078681\n",
    "0.7847599703514611,0.6293705171187065\n",
    "0.7847599703514611,0.6292218560816774\n",
    "0.7847599703514611,0.6107084160933515\n",
    "1.1288378916846884,1.0942268483928872\n",
    "1.1288378916846884,1.0779629449846204\n",
    "1.1288378916846884,1.1151270114916647\n",
    "1.623776739188721,1.5682314346793895\n",
    "1.623776739188721,1.544967383412808\n",
    "1.623776739188721,1.540068595980988\n",
    "2.3357214690901213,1.9810187452329917\n",
    "2.3357214690901213,1.9494269607495571\n",
    "2.3357214690901213,1.9408931920431431\n",
    "3.359818286283781,2.3179681138726\n",
    "3.359818286283781,2.395117528971509\n",
    "3.359818286283781,2.2504633190845866\n",
    "4.832930238571752,2.5871131435953965\n",
    "4.832930238571752,2.6507642395678666\n",
    "4.832930238571752,2.6777030295287907\n",
    "6.951927961775605,2.8003648496549087\n",
    "6.951927961775605,2.8517696956036693\n",
    "6.951927961775605,2.8775895443122463\n",
    "10.0,2.968849253649377\n",
    "10.0,3.032484862793274\n",
    "10.0,2.896894467504049\n",
    "\"\"\"\n",
    "\n",
    "df = pd.read_csv(io.StringIO(standard_curve_csv))\n",
    "df"
   ],
   "outputs": [
    {
     "data": {
      "text/plain": [
       "    known_concentration  instrument_response\n",
       "0              0.010000             0.002069\n",
       "1              0.010000             0.002013\n",
       "2              0.010000             0.002117\n",
       "3              0.014384             0.001960\n",
       "4              0.014384             0.001988\n",
       "5              0.014384             0.001944\n",
       "6              0.020691             0.001906\n",
       "7              0.020691             0.001948\n",
       "8              0.020691             0.001882\n",
       "9              0.029764             0.002020\n",
       "10             0.029764             0.002089\n",
       "11             0.029764             0.002094\n",
       "12             0.042813             0.002321\n",
       "13             0.042813             0.002347\n",
       "14             0.042813             0.002367\n",
       "15             0.061585             0.002350\n",
       "16             0.061585             0.002423\n",
       "17             0.061585             0.002328\n",
       "18             0.088587             0.003427\n",
       "19             0.088587             0.003372\n",
       "20             0.088587             0.003334\n",
       "21             0.127427             0.005977\n",
       "22             0.127427             0.005895\n",
       "23             0.127427             0.006184\n",
       "24             0.183298             0.014290\n",
       "25             0.183298             0.014007\n",
       "26             0.183298             0.014514\n",
       "27             0.263665             0.039195\n",
       "28             0.263665             0.038163\n",
       "29             0.263665             0.040298\n",
       "30             0.379269             0.110125\n",
       "31             0.379269             0.107740\n",
       "32             0.379269             0.112896\n",
       "33             0.545559             0.287883\n",
       "34             0.545559             0.287488\n",
       "35             0.545559             0.280638\n",
       "36             0.784760             0.629371\n",
       "37             0.784760             0.629222\n",
       "38             0.784760             0.610708\n",
       "39             1.128838             1.094227\n",
       "40             1.128838             1.077963\n",
       "41             1.128838             1.115127\n",
       "42             1.623777             1.568231\n",
       "43             1.623777             1.544967\n",
       "44             1.623777             1.540069\n",
       "45             2.335721             1.981019\n",
       "46             2.335721             1.949427\n",
       "47             2.335721             1.940893\n",
       "48             3.359818             2.317968\n",
       "49             3.359818             2.395118\n",
       "50             3.359818             2.250463\n",
       "51             4.832930             2.587113\n",
       "52             4.832930             2.650764\n",
       "53             4.832930             2.677703\n",
       "54             6.951928             2.800365\n",
       "55             6.951928             2.851770\n",
       "56             6.951928             2.877590\n",
       "57            10.000000             2.968849\n",
       "58            10.000000             3.032485\n",
       "59            10.000000             2.896894"
      ],
      "text/html": [
       "<div>\n",
       "<style scoped>\n",
       "    .dataframe tbody tr th:only-of-type {\n",
       "        vertical-align: middle;\n",
       "    }\n",
       "\n",
       "    .dataframe tbody tr th {\n",
       "        vertical-align: top;\n",
       "    }\n",
       "\n",
       "    .dataframe thead th {\n",
       "        text-align: right;\n",
       "    }\n",
       "</style>\n",
       "<table border=\"1\" class=\"dataframe\">\n",
       "  <thead>\n",
       "    <tr style=\"text-align: right;\">\n",
       "      <th></th>\n",
       "      <th>known_concentration</th>\n",
       "      <th>instrument_response</th>\n",
       "    </tr>\n",
       "  </thead>\n",
       "  <tbody>\n",
       "    <tr>\n",
       "      <th>0</th>\n",
       "      <td>0.010000</td>\n",
       "      <td>0.002069</td>\n",
       "    </tr>\n",
       "    <tr>\n",
       "      <th>1</th>\n",
       "      <td>0.010000</td>\n",
       "      <td>0.002013</td>\n",
       "    </tr>\n",
       "    <tr>\n",
       "      <th>2</th>\n",
       "      <td>0.010000</td>\n",
       "      <td>0.002117</td>\n",
       "    </tr>\n",
       "    <tr>\n",
       "      <th>3</th>\n",
       "      <td>0.014384</td>\n",
       "      <td>0.001960</td>\n",
       "    </tr>\n",
       "    <tr>\n",
       "      <th>4</th>\n",
       "      <td>0.014384</td>\n",
       "      <td>0.001988</td>\n",
       "    </tr>\n",
       "    <tr>\n",
       "      <th>5</th>\n",
       "      <td>0.014384</td>\n",
       "      <td>0.001944</td>\n",
       "    </tr>\n",
       "    <tr>\n",
       "      <th>6</th>\n",
       "      <td>0.020691</td>\n",
       "      <td>0.001906</td>\n",
       "    </tr>\n",
       "    <tr>\n",
       "      <th>7</th>\n",
       "      <td>0.020691</td>\n",
       "      <td>0.001948</td>\n",
       "    </tr>\n",
       "    <tr>\n",
       "      <th>8</th>\n",
       "      <td>0.020691</td>\n",
       "      <td>0.001882</td>\n",
       "    </tr>\n",
       "    <tr>\n",
       "      <th>9</th>\n",
       "      <td>0.029764</td>\n",
       "      <td>0.002020</td>\n",
       "    </tr>\n",
       "    <tr>\n",
       "      <th>10</th>\n",
       "      <td>0.029764</td>\n",
       "      <td>0.002089</td>\n",
       "    </tr>\n",
       "    <tr>\n",
       "      <th>11</th>\n",
       "      <td>0.029764</td>\n",
       "      <td>0.002094</td>\n",
       "    </tr>\n",
       "    <tr>\n",
       "      <th>12</th>\n",
       "      <td>0.042813</td>\n",
       "      <td>0.002321</td>\n",
       "    </tr>\n",
       "    <tr>\n",
       "      <th>13</th>\n",
       "      <td>0.042813</td>\n",
       "      <td>0.002347</td>\n",
       "    </tr>\n",
       "    <tr>\n",
       "      <th>14</th>\n",
       "      <td>0.042813</td>\n",
       "      <td>0.002367</td>\n",
       "    </tr>\n",
       "    <tr>\n",
       "      <th>15</th>\n",
       "      <td>0.061585</td>\n",
       "      <td>0.002350</td>\n",
       "    </tr>\n",
       "    <tr>\n",
       "      <th>16</th>\n",
       "      <td>0.061585</td>\n",
       "      <td>0.002423</td>\n",
       "    </tr>\n",
       "    <tr>\n",
       "      <th>17</th>\n",
       "      <td>0.061585</td>\n",
       "      <td>0.002328</td>\n",
       "    </tr>\n",
       "    <tr>\n",
       "      <th>18</th>\n",
       "      <td>0.088587</td>\n",
       "      <td>0.003427</td>\n",
       "    </tr>\n",
       "    <tr>\n",
       "      <th>19</th>\n",
       "      <td>0.088587</td>\n",
       "      <td>0.003372</td>\n",
       "    </tr>\n",
       "    <tr>\n",
       "      <th>20</th>\n",
       "      <td>0.088587</td>\n",
       "      <td>0.003334</td>\n",
       "    </tr>\n",
       "    <tr>\n",
       "      <th>21</th>\n",
       "      <td>0.127427</td>\n",
       "      <td>0.005977</td>\n",
       "    </tr>\n",
       "    <tr>\n",
       "      <th>22</th>\n",
       "      <td>0.127427</td>\n",
       "      <td>0.005895</td>\n",
       "    </tr>\n",
       "    <tr>\n",
       "      <th>23</th>\n",
       "      <td>0.127427</td>\n",
       "      <td>0.006184</td>\n",
       "    </tr>\n",
       "    <tr>\n",
       "      <th>24</th>\n",
       "      <td>0.183298</td>\n",
       "      <td>0.014290</td>\n",
       "    </tr>\n",
       "    <tr>\n",
       "      <th>25</th>\n",
       "      <td>0.183298</td>\n",
       "      <td>0.014007</td>\n",
       "    </tr>\n",
       "    <tr>\n",
       "      <th>26</th>\n",
       "      <td>0.183298</td>\n",
       "      <td>0.014514</td>\n",
       "    </tr>\n",
       "    <tr>\n",
       "      <th>27</th>\n",
       "      <td>0.263665</td>\n",
       "      <td>0.039195</td>\n",
       "    </tr>\n",
       "    <tr>\n",
       "      <th>28</th>\n",
       "      <td>0.263665</td>\n",
       "      <td>0.038163</td>\n",
       "    </tr>\n",
       "    <tr>\n",
       "      <th>29</th>\n",
       "      <td>0.263665</td>\n",
       "      <td>0.040298</td>\n",
       "    </tr>\n",
       "    <tr>\n",
       "      <th>30</th>\n",
       "      <td>0.379269</td>\n",
       "      <td>0.110125</td>\n",
       "    </tr>\n",
       "    <tr>\n",
       "      <th>31</th>\n",
       "      <td>0.379269</td>\n",
       "      <td>0.107740</td>\n",
       "    </tr>\n",
       "    <tr>\n",
       "      <th>32</th>\n",
       "      <td>0.379269</td>\n",
       "      <td>0.112896</td>\n",
       "    </tr>\n",
       "    <tr>\n",
       "      <th>33</th>\n",
       "      <td>0.545559</td>\n",
       "      <td>0.287883</td>\n",
       "    </tr>\n",
       "    <tr>\n",
       "      <th>34</th>\n",
       "      <td>0.545559</td>\n",
       "      <td>0.287488</td>\n",
       "    </tr>\n",
       "    <tr>\n",
       "      <th>35</th>\n",
       "      <td>0.545559</td>\n",
       "      <td>0.280638</td>\n",
       "    </tr>\n",
       "    <tr>\n",
       "      <th>36</th>\n",
       "      <td>0.784760</td>\n",
       "      <td>0.629371</td>\n",
       "    </tr>\n",
       "    <tr>\n",
       "      <th>37</th>\n",
       "      <td>0.784760</td>\n",
       "      <td>0.629222</td>\n",
       "    </tr>\n",
       "    <tr>\n",
       "      <th>38</th>\n",
       "      <td>0.784760</td>\n",
       "      <td>0.610708</td>\n",
       "    </tr>\n",
       "    <tr>\n",
       "      <th>39</th>\n",
       "      <td>1.128838</td>\n",
       "      <td>1.094227</td>\n",
       "    </tr>\n",
       "    <tr>\n",
       "      <th>40</th>\n",
       "      <td>1.128838</td>\n",
       "      <td>1.077963</td>\n",
       "    </tr>\n",
       "    <tr>\n",
       "      <th>41</th>\n",
       "      <td>1.128838</td>\n",
       "      <td>1.115127</td>\n",
       "    </tr>\n",
       "    <tr>\n",
       "      <th>42</th>\n",
       "      <td>1.623777</td>\n",
       "      <td>1.568231</td>\n",
       "    </tr>\n",
       "    <tr>\n",
       "      <th>43</th>\n",
       "      <td>1.623777</td>\n",
       "      <td>1.544967</td>\n",
       "    </tr>\n",
       "    <tr>\n",
       "      <th>44</th>\n",
       "      <td>1.623777</td>\n",
       "      <td>1.540069</td>\n",
       "    </tr>\n",
       "    <tr>\n",
       "      <th>45</th>\n",
       "      <td>2.335721</td>\n",
       "      <td>1.981019</td>\n",
       "    </tr>\n",
       "    <tr>\n",
       "      <th>46</th>\n",
       "      <td>2.335721</td>\n",
       "      <td>1.949427</td>\n",
       "    </tr>\n",
       "    <tr>\n",
       "      <th>47</th>\n",
       "      <td>2.335721</td>\n",
       "      <td>1.940893</td>\n",
       "    </tr>\n",
       "    <tr>\n",
       "      <th>48</th>\n",
       "      <td>3.359818</td>\n",
       "      <td>2.317968</td>\n",
       "    </tr>\n",
       "    <tr>\n",
       "      <th>49</th>\n",
       "      <td>3.359818</td>\n",
       "      <td>2.395118</td>\n",
       "    </tr>\n",
       "    <tr>\n",
       "      <th>50</th>\n",
       "      <td>3.359818</td>\n",
       "      <td>2.250463</td>\n",
       "    </tr>\n",
       "    <tr>\n",
       "      <th>51</th>\n",
       "      <td>4.832930</td>\n",
       "      <td>2.587113</td>\n",
       "    </tr>\n",
       "    <tr>\n",
       "      <th>52</th>\n",
       "      <td>4.832930</td>\n",
       "      <td>2.650764</td>\n",
       "    </tr>\n",
       "    <tr>\n",
       "      <th>53</th>\n",
       "      <td>4.832930</td>\n",
       "      <td>2.677703</td>\n",
       "    </tr>\n",
       "    <tr>\n",
       "      <th>54</th>\n",
       "      <td>6.951928</td>\n",
       "      <td>2.800365</td>\n",
       "    </tr>\n",
       "    <tr>\n",
       "      <th>55</th>\n",
       "      <td>6.951928</td>\n",
       "      <td>2.851770</td>\n",
       "    </tr>\n",
       "    <tr>\n",
       "      <th>56</th>\n",
       "      <td>6.951928</td>\n",
       "      <td>2.877590</td>\n",
       "    </tr>\n",
       "    <tr>\n",
       "      <th>57</th>\n",
       "      <td>10.000000</td>\n",
       "      <td>2.968849</td>\n",
       "    </tr>\n",
       "    <tr>\n",
       "      <th>58</th>\n",
       "      <td>10.000000</td>\n",
       "      <td>3.032485</td>\n",
       "    </tr>\n",
       "    <tr>\n",
       "      <th>59</th>\n",
       "      <td>10.000000</td>\n",
       "      <td>2.896894</td>\n",
       "    </tr>\n",
       "  </tbody>\n",
       "</table>\n",
       "</div>"
      ]
     },
     "execution_count": 35,
     "metadata": {},
     "output_type": "execute_result"
    }
   ],
   "execution_count": 35
  },
  {
   "cell_type": "code",
   "metadata": {
    "ExecuteTime": {
     "end_time": "2024-11-20T08:16:57.717329Z",
     "start_time": "2024-11-20T08:16:57.513277Z"
    }
   },
   "source": [
    "df.plot.scatter(x=\"known_concentration\", y=\"instrument_response\", logx=True, logy=True)"
   ],
   "outputs": [
    {
     "data": {
      "text/plain": [
       "<Axes: xlabel='known_concentration', ylabel='instrument_response'>"
      ]
     },
     "execution_count": 36,
     "metadata": {},
     "output_type": "execute_result"
    },
    {
     "data": {
      "text/plain": [
       "<Figure size 640x480 with 1 Axes>"
      ],
      "image/png": "[encoded data removed]"
     },
     "metadata": {},
     "output_type": "display_data"
    }
   ],
   "execution_count": 36
  },
  {
   "cell_type": "markdown",
   "metadata": {},
   "source": [
    "Next we'd like to fit a standard curve to these data to estimate the concentration of an unknown sample given its observed response signal. Per the plot, we clearly need a non-linear model to fit the data.\n",
    "\n",
    "To do this, we'll use the `bio-curve-fit` package to fit a four-parameter and five-parameter logistic model to the data. Both models are used to fit dose-response data and are defined as:\n",
    "\n",
    "$$f(x) = \\frac{A-D}{1+\\left(\\frac{x}{C}\\right)^B}+D$$\n",
    "\n",
    "                                                \n",
    "and\n",
    "\n",
    "$$f(x) = D + \\frac{A - D}{\\left(1 + \\left(\\frac{x}{C}\\right)^B\\right)^S}$$\n",
    "\n",
    "respectively.\n",
    "\n",
    "`bio-curve-fit` will find the values for the parameters $A$, $B$, $C$, $D$, and $S$ that best fit the example data above."
   ]
  },
  {
   "cell_type": "code",
   "metadata": {
    "ExecuteTime": {
     "end_time": "2024-11-20T08:16:58.710830Z",
     "start_time": "2024-11-20T08:16:58.704222Z"
    }
   },
   "source": [
    "# instantiate a 4PL model object\n",
    "four_pl_model = FourPLLogistic()\n",
    "\n",
    "x = df[\"known_concentration\"]\n",
    "y = df[\"instrument_response\"]\n",
    "\n",
    "\n",
    "# fit the model using the data\n",
    "four_pl_model.fit(x, y, weight_func=lambda x:x)\n",
    "four_pl_model"
   ],
   "outputs": [
    {
     "data": {
      "text/plain": [
       "FourPLLogistic(A=0.001949464936626857, B=2.845595637975574,\n",
       "               C=1.1722476686290517, D=2.5040078221095095)"
      ],
      "text/html": [
       "<style>#sk-container-id-11 {color: black;}#sk-container-id-11 pre{padding: 0;}#sk-container-id-11 div.sk-toggleable {background-color: white;}#sk-container-id-11 label.sk-toggleable__label {cursor: pointer;display: block;width: 100%;margin-bottom: 0;padding: 0.3em;box-sizing: border-box;text-align: center;}#sk-container-id-11 label.sk-toggleable__label-arrow:before {content: \"▸\";float: left;margin-right: 0.25em;color: #696969;}#sk-container-id-11 label.sk-toggleable__label-arrow:hover:before {color: black;}#sk-container-id-11 div.sk-estimator:hover label.sk-toggleable__label-arrow:before {color: black;}#sk-container-id-11 div.sk-toggleable__content {max-height: 0;max-width: 0;overflow: hidden;text-align: left;background-color: #f0f8ff;}#sk-container-id-11 div.sk-toggleable__content pre {margin: 0.2em;color: black;border-radius: 0.25em;background-color: #f0f8ff;}#sk-container-id-11 input.sk-toggleable__control:checked~div.sk-toggleable__content {max-height: 200px;max-width: 100%;overflow: auto;}#sk-container-id-11 input.sk-toggleable__control:checked~label.sk-toggleable__label-arrow:before {content: \"▾\";}#sk-container-id-11 div.sk-estimator input.sk-toggleable__control:checked~label.sk-toggleable__label {background-color: #d4ebff;}#sk-container-id-11 div.sk-label input.sk-toggleable__control:checked~label.sk-toggleable__label {background-color: #d4ebff;}#sk-container-id-11 input.sk-hidden--visually {border: 0;clip: rect(1px 1px 1px 1px);clip: rect(1px, 1px, 1px, 1px);height: 1px;margin: -1px;overflow: hidden;padding: 0;position: absolute;width: 1px;}#sk-container-id-11 div.sk-estimator {font-family: monospace;background-color: #f0f8ff;border: 1px dotted black;border-radius: 0.25em;box-sizing: border-box;margin-bottom: 0.5em;}#sk-container-id-11 div.sk-estimator:hover {background-color: #d4ebff;}#sk-container-id-11 div.sk-parallel-item::after {content: \"\";width: 100%;border-bottom: 1px solid gray;flex-grow: 1;}#sk-container-id-11 div.sk-label:hover label.sk-toggleable__label {background-color: #d4ebff;}#sk-container-id-11 div.sk-serial::before {content: \"\";position: absolute;border-left: 1px solid gray;box-sizing: border-box;top: 0;bottom: 0;left: 50%;z-index: 0;}#sk-container-id-11 div.sk-serial {display: flex;flex-direction: column;align-items: center;background-color: white;padding-right: 0.2em;padding-left: 0.2em;position: relative;}#sk-container-id-11 div.sk-item {position: relative;z-index: 1;}#sk-container-id-11 div.sk-parallel {display: flex;align-items: stretch;justify-content: center;background-color: white;position: relative;}#sk-container-id-11 div.sk-item::before, #sk-container-id-11 div.sk-parallel-item::before {content: \"\";position: absolute;border-left: 1px solid gray;box-sizing: border-box;top: 0;bottom: 0;left: 50%;z-index: -1;}#sk-container-id-11 div.sk-parallel-item {display: flex;flex-direction: column;z-index: 1;position: relative;background-color: white;}#sk-container-id-11 div.sk-parallel-item:first-child::after {align-self: flex-end;width: 50%;}#sk-container-id-11 div.sk-parallel-item:last-child::after {align-self: flex-start;width: 50%;}#sk-container-id-11 div.sk-parallel-item:only-child::after {width: 0;}#sk-container-id-11 div.sk-dashed-wrapped {border: 1px dashed gray;margin: 0 0.4em 0.5em 0.4em;box-sizing: border-box;padding-bottom: 0.4em;background-color: white;}#sk-container-id-11 div.sk-label label {font-family: monospace;font-weight: bold;display: inline-block;line-height: 1.2em;}#sk-container-id-11 div.sk-label-container {text-align: center;}#sk-container-id-11 div.sk-container {/* jupyter's `normalize.less` sets `[hidden] { display: none; }` but bootstrap.min.css set `[hidden] { display: none !important; }` so we also need the `!important` here to be able to override the default hidden behavior on the sphinx rendered scikit-learn.org. See: https://github.com/scikit-learn/scikit-learn/issues/21755 */display: inline-block !important;position: relative;}#sk-container-id-11 div.sk-text-repr-fallback {display: none;}</style><div id=\"sk-container-id-11\" class=\"sk-top-container\"><div class=\"sk-text-repr-fallback\"><pre>FourPLLogistic(A=0.001949464936626857, B=2.845595637975574,\n",
       "               C=1.1722476686290517, D=2.5040078221095095)</pre><b>In a Jupyter environment, please rerun this cell to show the HTML representation or trust the notebook. <br />On GitHub, the HTML representation is unable to render, please try loading this page with nbviewer.org.</b></div><div class=\"sk-container\" hidden><div class=\"sk-item\"><div class=\"sk-estimator sk-toggleable\"><input class=\"sk-toggleable__control sk-hidden--visually\" id=\"sk-estimator-id-11\" type=\"checkbox\" checked><label for=\"sk-estimator-id-11\" class=\"sk-toggleable__label sk-toggleable__label-arrow\">FourPLLogistic</label><div class=\"sk-toggleable__content\"><pre>FourPLLogistic(A=0.001949464936626857, B=2.845595637975574,\n",
       "               C=1.1722476686290517, D=2.5040078221095095)</pre></div></div></div></div></div>"
      ]
     },
     "execution_count": 37,
     "metadata": {},
     "output_type": "execute_result"
    }
   ],
   "execution_count": 37
  },
  {
   "metadata": {
    "ExecuteTime": {
     "end_time": "2024-11-20T08:16:58.920322Z",
     "start_time": "2024-11-20T08:16:58.908023Z"
    }
   },
   "cell_type": "code",
   "source": [
    "# instantiate a 5PL model object\n",
    "five_pl_model = FivePLLogistic()\n",
    "\n",
    "x = df[\"known_concentration\"]\n",
    "y = df[\"instrument_response\"]\n",
    "\n",
    "\n",
    "# fit the model using the data\n",
    "five_pl_model.fit(x, y, weight_func=lambda x:x)\n",
    "five_pl_model"
   ],
   "outputs": [
    {
     "name": "stderr",
     "output_type": "stream",
     "text": [
      "/Users/nickflores_ganymede/dev/bio-curve-fit/bio_curve_fit/logistic.py:540: RuntimeWarning: invalid value encountered in power\n",
      "  z = (np.sign(x / C) * np.abs(x / C)) ** B\n"
     ]
    },
    {
     "data": {
      "text/plain": [
       "FivePLLogistic(A=0.002006901257671911, B=3.087036820144977,\n",
       "               C=0.6903113152785875, D=3.68945557111049, S=0.20269883209762796)"
      ],
      "text/html": [
       "<style>#sk-container-id-12 {color: black;}#sk-container-id-12 pre{padding: 0;}#sk-container-id-12 div.sk-toggleable {background-color: white;}#sk-container-id-12 label.sk-toggleable__label {cursor: pointer;display: block;width: 100%;margin-bottom: 0;padding: 0.3em;box-sizing: border-box;text-align: center;}#sk-container-id-12 label.sk-toggleable__label-arrow:before {content: \"▸\";float: left;margin-right: 0.25em;color: #696969;}#sk-container-id-12 label.sk-toggleable__label-arrow:hover:before {color: black;}#sk-container-id-12 div.sk-estimator:hover label.sk-toggleable__label-arrow:before {color: black;}#sk-container-id-12 div.sk-toggleable__content {max-height: 0;max-width: 0;overflow: hidden;text-align: left;background-color: #f0f8ff;}#sk-container-id-12 div.sk-toggleable__content pre {margin: 0.2em;color: black;border-radius: 0.25em;background-color: #f0f8ff;}#sk-container-id-12 input.sk-toggleable__control:checked~div.sk-toggleable__content {max-height: 200px;max-width: 100%;overflow: auto;}#sk-container-id-12 input.sk-toggleable__control:checked~label.sk-toggleable__label-arrow:before {content: \"▾\";}#sk-container-id-12 div.sk-estimator input.sk-toggleable__control:checked~label.sk-toggleable__label {background-color: #d4ebff;}#sk-container-id-12 div.sk-label input.sk-toggleable__control:checked~label.sk-toggleable__label {background-color: #d4ebff;}#sk-container-id-12 input.sk-hidden--visually {border: 0;clip: rect(1px 1px 1px 1px);clip: rect(1px, 1px, 1px, 1px);height: 1px;margin: -1px;overflow: hidden;padding: 0;position: absolute;width: 1px;}#sk-container-id-12 div.sk-estimator {font-family: monospace;background-color: #f0f8ff;border: 1px dotted black;border-radius: 0.25em;box-sizing: border-box;margin-bottom: 0.5em;}#sk-container-id-12 div.sk-estimator:hover {background-color: #d4ebff;}#sk-container-id-12 div.sk-parallel-item::after {content: \"\";width: 100%;border-bottom: 1px solid gray;flex-grow: 1;}#sk-container-id-12 div.sk-label:hover label.sk-toggleable__label {background-color: #d4ebff;}#sk-container-id-12 div.sk-serial::before {content: \"\";position: absolute;border-left: 1px solid gray;box-sizing: border-box;top: 0;bottom: 0;left: 50%;z-index: 0;}#sk-container-id-12 div.sk-serial {display: flex;flex-direction: column;align-items: center;background-color: white;padding-right: 0.2em;padding-left: 0.2em;position: relative;}#sk-container-id-12 div.sk-item {position: relative;z-index: 1;}#sk-container-id-12 div.sk-parallel {display: flex;align-items: stretch;justify-content: center;background-color: white;position: relative;}#sk-container-id-12 div.sk-item::before, #sk-container-id-12 div.sk-parallel-item::before {content: \"\";position: absolute;border-left: 1px solid gray;box-sizing: border-box;top: 0;bottom: 0;left: 50%;z-index: -1;}#sk-container-id-12 div.sk-parallel-item {display: flex;flex-direction: column;z-index: 1;position: relative;background-color: white;}#sk-container-id-12 div.sk-parallel-item:first-child::after {align-self: flex-end;width: 50%;}#sk-container-id-12 div.sk-parallel-item:last-child::after {align-self: flex-start;width: 50%;}#sk-container-id-12 div.sk-parallel-item:only-child::after {width: 0;}#sk-container-id-12 div.sk-dashed-wrapped {border: 1px dashed gray;margin: 0 0.4em 0.5em 0.4em;box-sizing: border-box;padding-bottom: 0.4em;background-color: white;}#sk-container-id-12 div.sk-label label {font-family: monospace;font-weight: bold;display: inline-block;line-height: 1.2em;}#sk-container-id-12 div.sk-label-container {text-align: center;}#sk-container-id-12 div.sk-container {/* jupyter's `normalize.less` sets `[hidden] { display: none; }` but bootstrap.min.css set `[hidden] { display: none !important; }` so we also need the `!important` here to be able to override the default hidden behavior on the sphinx rendered scikit-learn.org. See: https://github.com/scikit-learn/scikit-learn/issues/21755 */display: inline-block !important;position: relative;}#sk-container-id-12 div.sk-text-repr-fallback {display: none;}</style><div id=\"sk-container-id-12\" class=\"sk-top-container\"><div class=\"sk-text-repr-fallback\"><pre>FivePLLogistic(A=0.002006901257671911, B=3.087036820144977,\n",
       "               C=0.6903113152785875, D=3.68945557111049, S=0.20269883209762796)</pre><b>In a Jupyter environment, please rerun this cell to show the HTML representation or trust the notebook. <br />On GitHub, the HTML representation is unable to render, please try loading this page with nbviewer.org.</b></div><div class=\"sk-container\" hidden><div class=\"sk-item\"><div class=\"sk-estimator sk-toggleable\"><input class=\"sk-toggleable__control sk-hidden--visually\" id=\"sk-estimator-id-12\" type=\"checkbox\" checked><label for=\"sk-estimator-id-12\" class=\"sk-toggleable__label sk-toggleable__label-arrow\">FivePLLogistic</label><div class=\"sk-toggleable__content\"><pre>FivePLLogistic(A=0.002006901257671911, B=3.087036820144977,\n",
       "               C=0.6903113152785875, D=3.68945557111049, S=0.20269883209762796)</pre></div></div></div></div></div>"
      ]
     },
     "execution_count": 38,
     "metadata": {},
     "output_type": "execute_result"
    }
   ],
   "execution_count": 38
  },
  {
   "metadata": {},
   "cell_type": "markdown",
   "source": "Note that when we performed the fit, we provided a weight function based on the magnitude of observed values. This weight scheme ensures our model is not biased towards high signal values--this is especially important because our data spans several orders of magnitude. You can provide your own preferred weight function during fitting.\n"
  },
  {
   "cell_type": "markdown",
   "metadata": {},
   "source": "Both models have been fit to the data, and the best-fit parameters are visible above. The parameters can also be accessed individually:"
  },
  {
   "cell_type": "code",
   "metadata": {
    "ExecuteTime": {
     "end_time": "2024-11-20T08:16:59.915275Z",
     "start_time": "2024-11-20T08:16:59.912720Z"
    }
   },
   "source": "five_pl_model.A_",
   "outputs": [
    {
     "data": {
      "text/plain": [
       "0.002006901257671911"
      ]
     },
     "execution_count": 39,
     "metadata": {},
     "output_type": "execute_result"
    }
   ],
   "execution_count": 39
  },
  {
   "cell_type": "markdown",
   "metadata": {},
   "source": [
    "Since `bio-curve-fit` conforms with the scikit-learn API, we can easily check the $R^2$ using the `score()` method:"
   ]
  },
  {
   "cell_type": "code",
   "metadata": {
    "ExecuteTime": {
     "end_time": "2024-11-20T08:17:00.656365Z",
     "start_time": "2024-11-20T08:17:00.651165Z"
    }
   },
   "source": "five_pl_model.score(x, y)",
   "outputs": [
    {
     "data": {
      "text/plain": [
       "0.9994288917465566"
      ]
     },
     "execution_count": 40,
     "metadata": {},
     "output_type": "execute_result"
    }
   ],
   "execution_count": 40
  },
  {
   "cell_type": "markdown",
   "metadata": {},
   "source": [
    "The model fit also calculates upper and lower limits of detection:"
   ]
  },
  {
   "cell_type": "code",
   "metadata": {
    "ExecuteTime": {
     "end_time": "2024-11-20T08:17:01.438536Z",
     "start_time": "2024-11-20T08:17:01.436692Z"
    }
   },
   "source": [
    "print(\"Lower Limit of Detection: \", five_pl_model.LLOD_)\n",
    "print(\"Upper Limit of Detection: \", five_pl_model.ULOD_)"
   ],
   "outputs": [
    {
     "name": "stdout",
     "output_type": "stream",
     "text": [
      "Lower Limit of Detection:  0.04194258485186726\n",
      "Upper Limit of Detection:  10.000000000000005\n"
     ]
    }
   ],
   "execution_count": 41
  },
  {
   "cell_type": "markdown",
   "metadata": {},
   "source": [
    "The default methodology is to use a value 2.5 standard deviations above the fitted curve as the lower limit of detection (where \"standard deviation\" is the standard deviation of the the lowest concentration standard replicates). The upper limit of detection is calculated as the highest concentration standard.\n",
    "\n",
    "> Note: You can create your own methodology for calculating the LODs by passing a custom LOD function function into the `fit()` method. See [the code](../../bio_curve_fit/logistic.py) for more details.\n",
    "\n",
    "Finally, let's plot the data and the fitted models:"
   ]
  },
  {
   "cell_type": "code",
   "metadata": {
    "ExecuteTime": {
     "end_time": "2024-11-20T08:17:02.702992Z",
     "start_time": "2024-11-20T08:17:02.527290Z"
    }
   },
   "source": [
    "\n",
    "def generate_log_spaced_values(start, stop, num_points = 100):\n",
    "\n",
    "    # Calculate the logarithmic range\n",
    "    log_start = np.log10(start)\n",
    "    log_stop = np.log10(stop)\n",
    "\n",
    "    return np.logspace(log_start, log_stop, num_points)\n",
    "\n",
    "smoothed_x_values = generate_log_spaced_values(min(df[\"known_concentration\"]), max(df[\"known_concentration\"]), 100)\n",
    "\n",
    "four_PL_data = four_pl_model.predict(smoothed_x_values)\n",
    "five_PL_data = five_pl_model.predict(smoothed_x_values)\n",
    "\n",
    "plt.figure(figsize=(10, 6))\n",
    "plt.scatter(df[\"known_concentration\"], df[\"instrument_response\"], color='blue', alpha=0.6, label='Raw Data')\n",
    "\n",
    "# Plot the true model curve\n",
    "plt.plot(smoothed_x_values, five_PL_data, color='red', linestyle='--', linewidth=2, label='Predicted 5PL Model')\n",
    "plt.plot(smoothed_x_values, four_PL_data, color='green', linestyle='--', linewidth=2, label='Predicted 4PL Model')\n",
    "\n",
    "# Labels and title\n",
    "plt.xlabel('X values')\n",
    "plt.ylabel('Y values')\n",
    "plt.xscale(\"log\")\n",
    "plt.yscale(\"log\")\n",
    "plt.title(f'Measured Data and Predicted Models')\n",
    "plt.legend()\n",
    "plt.show()\n"
   ],
   "outputs": [
    {
     "data": {
      "text/plain": [
       "<Figure size 1000x600 with 1 Axes>"
      ],
      "image/png": "[encoded data removed]"
     },
     "metadata": {},
     "output_type": "display_data"
    }
   ],
   "execution_count": 42
  },
  {
   "metadata": {},
   "cell_type": "markdown",
   "source": [
    "While somewhat subtle, close observation reveals superior performance of the 5PL model for higher concentration samples. You should expect to see similar performance when your data has high levels of asymmetry.\n",
    "\n",
    "With our model succesfully fit, we can now predict concentrations of new data.\n",
    "\n"
   ]
  },
  {
   "cell_type": "code",
   "metadata": {
    "ExecuteTime": {
     "end_time": "2024-11-20T08:35:08.773834Z",
     "start_time": "2024-11-20T08:35:08.768413Z"
    }
   },
   "source": [
    "newly_measured_responses = [0.005, 0.0124, 2.14, 1.10, 0.872]\n",
    "five_pl_model.predict_inverse(newly_measured_responses)"
   ],
   "outputs": [
    {
     "data": {
      "text/plain": [
       "array([0.11554827, 0.17327293, 2.74689818, 1.1411622 , 0.96045729])"
      ]
     },
     "execution_count": 45,
     "metadata": {},
     "output_type": "execute_result"
    }
   ],
   "execution_count": 45
  },
  {
   "cell_type": "markdown",
   "metadata": {},
   "source": [
    "Note that we use the `predict_inverse()` function because we are predicting the concentration of the unknown samples from the measured signal. I.e. given the plots above, we've measured new values of $y$ (instrument response) and want to predict the corresponding values of $x$ (analyte concentration)."
   ]
  },
  {
   "cell_type": "markdown",
   "metadata": {},
   "source": []
  }
 ],
 "metadata": {
  "kernelspec": {
   "display_name": ".venv",
   "language": "python",
   "name": "python3"
  },
  "language_info": {
   "codemirror_mode": {
    "name": "ipython",
    "version": 3
   },
   "file_extension": ".py",
   "mimetype": "text/x-python",
   "name": "python",
   "nbconvert_exporter": "python",
   "pygments_lexer": "ipython3",
   "version": "3.8.12"
  }
 },
 "nbformat": 4,
 "nbformat_minor": 2
}
