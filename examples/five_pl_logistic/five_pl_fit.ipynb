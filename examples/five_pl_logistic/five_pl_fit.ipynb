{
 "cells": [
  {
   "cell_type": "markdown",
   "metadata": {
    "ExecuteTime": {
     "end_time": "2025-01-13T07:03:28.548901Z",
     "start_time": "2025-01-13T07:03:28.090637Z"
    }
   },
   "source": [
    "<a target=\"_blank\" href=\"https://colab.research.google.com/github/Ganymede-Bio/bio-curve-fit/blob/main/examples/five_pl_logistic/five_pl_fit.ipynb\">\n",
    "  <img src=\"https://colab.research.google.com/assets/colab-badge.svg\" alt=\"Open In Colab\"/>\n",
    "</a>"
   ]
  },
  {
   "cell_type": "code",
   "execution_count": null,
   "metadata": {
    "ExecuteTime": {
     "end_time": "2025-01-17T08:29:45.674132Z",
     "start_time": "2025-01-17T08:29:45.145430Z"
    }
   },
   "outputs": [],
   "source": [
    "! pip install bio-curve-fit"
   ]
  },
  {
   "cell_type": "code",
   "execution_count": 1,
   "metadata": {
    "ExecuteTime": {
     "end_time": "2025-01-17T08:29:56.444820Z",
     "start_time": "2025-01-17T08:29:55.735133Z"
    }
   },
   "outputs": [],
   "source": [
    "import pandas as pd\n",
    "import io\n",
    "import numpy as np\n",
    "from matplotlib import pyplot as plt\n",
    "from bio_curve_fit.logistic import FourParamLogistic, FiveParamLogistic"
   ]
  },
  {
   "cell_type": "markdown",
   "metadata": {},
   "source": [
    "# Fitting a Five-Parameter Logistic Model to Create a Standard Curve using `bio-curve-fit`"
   ]
  },
  {
   "cell_type": "markdown",
   "metadata": {
    "ExecuteTime": {
     "end_time": "2025-01-13T07:03:29.564293Z",
     "start_time": "2025-01-13T07:03:29.553553Z"
    }
   },
   "source": [
    "A five-parameter logistic (5PL) regression model is often preferred over a simpler four-parameter logistic (4PL) model for fitting biological data because it introduces an additional asymmetry parameter. Biological assays, such as dose-response curves or immunoassays, frequently exhibit slight asymmetrical behavior that the 4PL’s symmetric sigmoid curve cannot capture. By allowing for this extra degree of freedom, the 5PL model can more accurately describe the real-world shape of the response, leading to better fits and more reliable parameter estimates.\n",
    "\n",
    "In the following notebook we will compare performance of a 5PL and 4PL regression model for asymmetrical data. Let's imagine we have 20 samples with a known concentration (standards) of an analyte. We've tested these standards, in triplicate, on an appropriate instrument and recorded the observed response signal. "
   ]
  },
  {
   "cell_type": "code",
   "execution_count": 2,
   "metadata": {
    "ExecuteTime": {
     "end_time": "2025-01-17T08:29:59.193764Z",
     "start_time": "2025-01-17T08:29:59.181566Z"
    }
   },
   "outputs": [
    {
     "data": {
      "text/html": [
       "<div>\n",
       "<style scoped>\n",
       "    .dataframe tbody tr th:only-of-type {\n",
       "        vertical-align: middle;\n",
       "    }\n",
       "\n",
       "    .dataframe tbody tr th {\n",
       "        vertical-align: top;\n",
       "    }\n",
       "\n",
       "    .dataframe thead th {\n",
       "        text-align: right;\n",
       "    }\n",
       "</style>\n",
       "<table border=\"1\" class=\"dataframe\">\n",
       "  <thead>\n",
       "    <tr style=\"text-align: right;\">\n",
       "      <th></th>\n",
       "      <th>known_concentration</th>\n",
       "      <th>instrument_response</th>\n",
       "    </tr>\n",
       "  </thead>\n",
       "  <tbody>\n",
       "    <tr>\n",
       "      <th>0</th>\n",
       "      <td>0.010000</td>\n",
       "      <td>0.002069</td>\n",
       "    </tr>\n",
       "    <tr>\n",
       "      <th>1</th>\n",
       "      <td>0.010000</td>\n",
       "      <td>0.002013</td>\n",
       "    </tr>\n",
       "    <tr>\n",
       "      <th>2</th>\n",
       "      <td>0.010000</td>\n",
       "      <td>0.002117</td>\n",
       "    </tr>\n",
       "    <tr>\n",
       "      <th>3</th>\n",
       "      <td>0.014384</td>\n",
       "      <td>0.001960</td>\n",
       "    </tr>\n",
       "    <tr>\n",
       "      <th>4</th>\n",
       "      <td>0.014384</td>\n",
       "      <td>0.001988</td>\n",
       "    </tr>\n",
       "    <tr>\n",
       "      <th>5</th>\n",
       "      <td>0.014384</td>\n",
       "      <td>0.001944</td>\n",
       "    </tr>\n",
       "    <tr>\n",
       "      <th>6</th>\n",
       "      <td>0.020691</td>\n",
       "      <td>0.001906</td>\n",
       "    </tr>\n",
       "    <tr>\n",
       "      <th>7</th>\n",
       "      <td>0.020691</td>\n",
       "      <td>0.001948</td>\n",
       "    </tr>\n",
       "    <tr>\n",
       "      <th>8</th>\n",
       "      <td>0.020691</td>\n",
       "      <td>0.001882</td>\n",
       "    </tr>\n",
       "    <tr>\n",
       "      <th>9</th>\n",
       "      <td>0.029764</td>\n",
       "      <td>0.002020</td>\n",
       "    </tr>\n",
       "    <tr>\n",
       "      <th>10</th>\n",
       "      <td>0.029764</td>\n",
       "      <td>0.002089</td>\n",
       "    </tr>\n",
       "    <tr>\n",
       "      <th>11</th>\n",
       "      <td>0.029764</td>\n",
       "      <td>0.002094</td>\n",
       "    </tr>\n",
       "    <tr>\n",
       "      <th>12</th>\n",
       "      <td>0.042813</td>\n",
       "      <td>0.002321</td>\n",
       "    </tr>\n",
       "    <tr>\n",
       "      <th>13</th>\n",
       "      <td>0.042813</td>\n",
       "      <td>0.002347</td>\n",
       "    </tr>\n",
       "    <tr>\n",
       "      <th>14</th>\n",
       "      <td>0.042813</td>\n",
       "      <td>0.002367</td>\n",
       "    </tr>\n",
       "    <tr>\n",
       "      <th>15</th>\n",
       "      <td>0.061585</td>\n",
       "      <td>0.002350</td>\n",
       "    </tr>\n",
       "    <tr>\n",
       "      <th>16</th>\n",
       "      <td>0.061585</td>\n",
       "      <td>0.002423</td>\n",
       "    </tr>\n",
       "    <tr>\n",
       "      <th>17</th>\n",
       "      <td>0.061585</td>\n",
       "      <td>0.002328</td>\n",
       "    </tr>\n",
       "    <tr>\n",
       "      <th>18</th>\n",
       "      <td>0.088587</td>\n",
       "      <td>0.003427</td>\n",
       "    </tr>\n",
       "    <tr>\n",
       "      <th>19</th>\n",
       "      <td>0.088587</td>\n",
       "      <td>0.003372</td>\n",
       "    </tr>\n",
       "    <tr>\n",
       "      <th>20</th>\n",
       "      <td>0.088587</td>\n",
       "      <td>0.003334</td>\n",
       "    </tr>\n",
       "    <tr>\n",
       "      <th>21</th>\n",
       "      <td>0.127427</td>\n",
       "      <td>0.005977</td>\n",
       "    </tr>\n",
       "    <tr>\n",
       "      <th>22</th>\n",
       "      <td>0.127427</td>\n",
       "      <td>0.005895</td>\n",
       "    </tr>\n",
       "    <tr>\n",
       "      <th>23</th>\n",
       "      <td>0.127427</td>\n",
       "      <td>0.006184</td>\n",
       "    </tr>\n",
       "    <tr>\n",
       "      <th>24</th>\n",
       "      <td>0.183298</td>\n",
       "      <td>0.014290</td>\n",
       "    </tr>\n",
       "    <tr>\n",
       "      <th>25</th>\n",
       "      <td>0.183298</td>\n",
       "      <td>0.014007</td>\n",
       "    </tr>\n",
       "    <tr>\n",
       "      <th>26</th>\n",
       "      <td>0.183298</td>\n",
       "      <td>0.014514</td>\n",
       "    </tr>\n",
       "    <tr>\n",
       "      <th>27</th>\n",
       "      <td>0.263665</td>\n",
       "      <td>0.039195</td>\n",
       "    </tr>\n",
       "    <tr>\n",
       "      <th>28</th>\n",
       "      <td>0.263665</td>\n",
       "      <td>0.038163</td>\n",
       "    </tr>\n",
       "    <tr>\n",
       "      <th>29</th>\n",
       "      <td>0.263665</td>\n",
       "      <td>0.040298</td>\n",
       "    </tr>\n",
       "    <tr>\n",
       "      <th>30</th>\n",
       "      <td>0.379269</td>\n",
       "      <td>0.110125</td>\n",
       "    </tr>\n",
       "    <tr>\n",
       "      <th>31</th>\n",
       "      <td>0.379269</td>\n",
       "      <td>0.107740</td>\n",
       "    </tr>\n",
       "    <tr>\n",
       "      <th>32</th>\n",
       "      <td>0.379269</td>\n",
       "      <td>0.112896</td>\n",
       "    </tr>\n",
       "    <tr>\n",
       "      <th>33</th>\n",
       "      <td>0.545559</td>\n",
       "      <td>0.287883</td>\n",
       "    </tr>\n",
       "    <tr>\n",
       "      <th>34</th>\n",
       "      <td>0.545559</td>\n",
       "      <td>0.287488</td>\n",
       "    </tr>\n",
       "    <tr>\n",
       "      <th>35</th>\n",
       "      <td>0.545559</td>\n",
       "      <td>0.280638</td>\n",
       "    </tr>\n",
       "    <tr>\n",
       "      <th>36</th>\n",
       "      <td>0.784760</td>\n",
       "      <td>0.629371</td>\n",
       "    </tr>\n",
       "    <tr>\n",
       "      <th>37</th>\n",
       "      <td>0.784760</td>\n",
       "      <td>0.629222</td>\n",
       "    </tr>\n",
       "    <tr>\n",
       "      <th>38</th>\n",
       "      <td>0.784760</td>\n",
       "      <td>0.610708</td>\n",
       "    </tr>\n",
       "    <tr>\n",
       "      <th>39</th>\n",
       "      <td>1.128838</td>\n",
       "      <td>1.094227</td>\n",
       "    </tr>\n",
       "    <tr>\n",
       "      <th>40</th>\n",
       "      <td>1.128838</td>\n",
       "      <td>1.077963</td>\n",
       "    </tr>\n",
       "    <tr>\n",
       "      <th>41</th>\n",
       "      <td>1.128838</td>\n",
       "      <td>1.115127</td>\n",
       "    </tr>\n",
       "    <tr>\n",
       "      <th>42</th>\n",
       "      <td>1.623777</td>\n",
       "      <td>1.568231</td>\n",
       "    </tr>\n",
       "    <tr>\n",
       "      <th>43</th>\n",
       "      <td>1.623777</td>\n",
       "      <td>1.544967</td>\n",
       "    </tr>\n",
       "    <tr>\n",
       "      <th>44</th>\n",
       "      <td>1.623777</td>\n",
       "      <td>1.540069</td>\n",
       "    </tr>\n",
       "    <tr>\n",
       "      <th>45</th>\n",
       "      <td>2.335721</td>\n",
       "      <td>1.981019</td>\n",
       "    </tr>\n",
       "    <tr>\n",
       "      <th>46</th>\n",
       "      <td>2.335721</td>\n",
       "      <td>1.949427</td>\n",
       "    </tr>\n",
       "    <tr>\n",
       "      <th>47</th>\n",
       "      <td>2.335721</td>\n",
       "      <td>1.940893</td>\n",
       "    </tr>\n",
       "    <tr>\n",
       "      <th>48</th>\n",
       "      <td>3.359818</td>\n",
       "      <td>2.317968</td>\n",
       "    </tr>\n",
       "    <tr>\n",
       "      <th>49</th>\n",
       "      <td>3.359818</td>\n",
       "      <td>2.395118</td>\n",
       "    </tr>\n",
       "    <tr>\n",
       "      <th>50</th>\n",
       "      <td>3.359818</td>\n",
       "      <td>2.250463</td>\n",
       "    </tr>\n",
       "    <tr>\n",
       "      <th>51</th>\n",
       "      <td>4.832930</td>\n",
       "      <td>2.587113</td>\n",
       "    </tr>\n",
       "    <tr>\n",
       "      <th>52</th>\n",
       "      <td>4.832930</td>\n",
       "      <td>2.650764</td>\n",
       "    </tr>\n",
       "    <tr>\n",
       "      <th>53</th>\n",
       "      <td>4.832930</td>\n",
       "      <td>2.677703</td>\n",
       "    </tr>\n",
       "    <tr>\n",
       "      <th>54</th>\n",
       "      <td>6.951928</td>\n",
       "      <td>2.800365</td>\n",
       "    </tr>\n",
       "    <tr>\n",
       "      <th>55</th>\n",
       "      <td>6.951928</td>\n",
       "      <td>2.851770</td>\n",
       "    </tr>\n",
       "    <tr>\n",
       "      <th>56</th>\n",
       "      <td>6.951928</td>\n",
       "      <td>2.877590</td>\n",
       "    </tr>\n",
       "    <tr>\n",
       "      <th>57</th>\n",
       "      <td>10.000000</td>\n",
       "      <td>2.968849</td>\n",
       "    </tr>\n",
       "    <tr>\n",
       "      <th>58</th>\n",
       "      <td>10.000000</td>\n",
       "      <td>3.032485</td>\n",
       "    </tr>\n",
       "    <tr>\n",
       "      <th>59</th>\n",
       "      <td>10.000000</td>\n",
       "      <td>2.896894</td>\n",
       "    </tr>\n",
       "  </tbody>\n",
       "</table>\n",
       "</div>"
      ],
      "text/plain": [
       "    known_concentration  instrument_response\n",
       "0              0.010000             0.002069\n",
       "1              0.010000             0.002013\n",
       "2              0.010000             0.002117\n",
       "3              0.014384             0.001960\n",
       "4              0.014384             0.001988\n",
       "5              0.014384             0.001944\n",
       "6              0.020691             0.001906\n",
       "7              0.020691             0.001948\n",
       "8              0.020691             0.001882\n",
       "9              0.029764             0.002020\n",
       "10             0.029764             0.002089\n",
       "11             0.029764             0.002094\n",
       "12             0.042813             0.002321\n",
       "13             0.042813             0.002347\n",
       "14             0.042813             0.002367\n",
       "15             0.061585             0.002350\n",
       "16             0.061585             0.002423\n",
       "17             0.061585             0.002328\n",
       "18             0.088587             0.003427\n",
       "19             0.088587             0.003372\n",
       "20             0.088587             0.003334\n",
       "21             0.127427             0.005977\n",
       "22             0.127427             0.005895\n",
       "23             0.127427             0.006184\n",
       "24             0.183298             0.014290\n",
       "25             0.183298             0.014007\n",
       "26             0.183298             0.014514\n",
       "27             0.263665             0.039195\n",
       "28             0.263665             0.038163\n",
       "29             0.263665             0.040298\n",
       "30             0.379269             0.110125\n",
       "31             0.379269             0.107740\n",
       "32             0.379269             0.112896\n",
       "33             0.545559             0.287883\n",
       "34             0.545559             0.287488\n",
       "35             0.545559             0.280638\n",
       "36             0.784760             0.629371\n",
       "37             0.784760             0.629222\n",
       "38             0.784760             0.610708\n",
       "39             1.128838             1.094227\n",
       "40             1.128838             1.077963\n",
       "41             1.128838             1.115127\n",
       "42             1.623777             1.568231\n",
       "43             1.623777             1.544967\n",
       "44             1.623777             1.540069\n",
       "45             2.335721             1.981019\n",
       "46             2.335721             1.949427\n",
       "47             2.335721             1.940893\n",
       "48             3.359818             2.317968\n",
       "49             3.359818             2.395118\n",
       "50             3.359818             2.250463\n",
       "51             4.832930             2.587113\n",
       "52             4.832930             2.650764\n",
       "53             4.832930             2.677703\n",
       "54             6.951928             2.800365\n",
       "55             6.951928             2.851770\n",
       "56             6.951928             2.877590\n",
       "57            10.000000             2.968849\n",
       "58            10.000000             3.032485\n",
       "59            10.000000             2.896894"
      ]
     },
     "execution_count": 2,
     "metadata": {},
     "output_type": "execute_result"
    }
   ],
   "source": [
    "standard_curve_csv = \"\"\"\n",
    "known_concentration,instrument_response\n",
    "0.01,0.002069117990872958\n",
    "0.01,0.0020132494933515024\n",
    "0.01,0.0021169840704374815\n",
    "0.01438449888287663,0.001959532926455008\n",
    "0.01438449888287663,0.0019884553193551735\n",
    "0.01438449888287663,0.0019444061051506441\n",
    "0.0206913808111479,0.0019060618132396786\n",
    "0.0206913808111479,0.001948195812428334\n",
    "0.0206913808111479,0.0018817446798727263\n",
    "0.029763514416313176,0.0020199075226226327\n",
    "0.029763514416313176,0.00208893443732371\n",
    "0.029763514416313176,0.0020935290065508014\n",
    "0.04281332398719394,0.00232136833694934\n",
    "0.04281332398719394,0.0023468274954318875\n",
    "0.04281332398719394,0.0023670255256337098\n",
    "0.06158482110660264,0.002350039420066734\n",
    "0.06158482110660264,0.0024226848713439883\n",
    "0.06158482110660264,0.002328199275919817\n",
    "0.08858667904100823,0.0034268951061987517\n",
    "0.08858667904100823,0.0033724552342330205\n",
    "0.08858667904100823,0.003333991357245253\n",
    "0.12742749857031335,0.005976982077588455\n",
    "0.12742749857031335,0.005894796802448098\n",
    "0.12742749857031335,0.006183810672175324\n",
    "0.18329807108324356,0.01429016019812947\n",
    "0.18329807108324356,0.014007072131872945\n",
    "0.18329807108324356,0.01451425437925086\n",
    "0.26366508987303583,0.03919501065794866\n",
    "0.26366508987303583,0.03816319608099027\n",
    "0.26366508987303583,0.04029788595266494\n",
    "0.37926901907322497,0.11012486126580442\n",
    "0.37926901907322497,0.10773997727674114\n",
    "0.37926901907322497,0.11289584492731791\n",
    "0.5455594781168517,0.28788349523919826\n",
    "0.5455594781168517,0.2874878807698649\n",
    "0.5455594781168517,0.2806375306078681\n",
    "0.7847599703514611,0.6293705171187065\n",
    "0.7847599703514611,0.6292218560816774\n",
    "0.7847599703514611,0.6107084160933515\n",
    "1.1288378916846884,1.0942268483928872\n",
    "1.1288378916846884,1.0779629449846204\n",
    "1.1288378916846884,1.1151270114916647\n",
    "1.623776739188721,1.5682314346793895\n",
    "1.623776739188721,1.544967383412808\n",
    "1.623776739188721,1.540068595980988\n",
    "2.3357214690901213,1.9810187452329917\n",
    "2.3357214690901213,1.9494269607495571\n",
    "2.3357214690901213,1.9408931920431431\n",
    "3.359818286283781,2.3179681138726\n",
    "3.359818286283781,2.395117528971509\n",
    "3.359818286283781,2.2504633190845866\n",
    "4.832930238571752,2.5871131435953965\n",
    "4.832930238571752,2.6507642395678666\n",
    "4.832930238571752,2.6777030295287907\n",
    "6.951927961775605,2.8003648496549087\n",
    "6.951927961775605,2.8517696956036693\n",
    "6.951927961775605,2.8775895443122463\n",
    "10.0,2.968849253649377\n",
    "10.0,3.032484862793274\n",
    "10.0,2.896894467504049\n",
    "\"\"\"\n",
    "\n",
    "df = pd.read_csv(io.StringIO(standard_curve_csv))\n",
    "df"
   ]
  },
  {
   "cell_type": "code",
   "execution_count": 3,
   "metadata": {
    "ExecuteTime": {
     "end_time": "2025-01-17T08:30:00.484176Z",
     "start_time": "2025-01-17T08:30:00.249435Z"
    }
   },
   "outputs": [
    {
     "data": {
      "text/plain": [
       "<Axes: xlabel='known_concentration', ylabel='instrument_response'>"
      ]
     },
     "execution_count": 3,
     "metadata": {},
     "output_type": "execute_result"
    },
    {
     "data": {
      "image/png": "[encoded data removed]",
      "text/plain": [
       "<Figure size 640x480 with 1 Axes>"
      ]
     },
     "metadata": {},
     "output_type": "display_data"
    }
   ],
   "source": [
    "df.plot.scatter(x=\"known_concentration\", y=\"instrument_response\", logx=True, logy=True)"
   ]
  },
  {
   "cell_type": "markdown",
   "metadata": {
    "ExecuteTime": {
     "end_time": "2025-01-13T07:03:32.668483Z",
     "start_time": "2025-01-13T07:03:32.656150Z"
    }
   },
   "source": [
    "Next we'd like to fit a standard curve to these data to estimate the concentration of an unknown sample given its observed response signal. Per the plot, we clearly need a non-linear model to fit the data.\n",
    "\n",
    "To do this, we'll use the `bio-curve-fit` package to fit a four-parameter and five-parameter logistic model to the data. Both models are used to fit dose-response data and are defined as:\n",
    "\n",
    "$$f(x) = \\frac{A-D}{1+\\left(\\frac{x}{C}\\right)^B}+D$$\n",
    "\n",
    "                                                \n",
    "and\n",
    "\n",
    "$$f(x) = D + \\frac{A - D}{\\left(1 + \\left(\\frac{x}{C}\\right)^B\\right)^S}$$\n",
    "\n",
    "respectively.\n",
    "\n",
    "`bio-curve-fit` will find the values for the parameters $A$, $B$, $C$, $D$, and $S$ that best fit the example data above."
   ]
  },
  {
   "cell_type": "code",
   "execution_count": 4,
   "metadata": {
    "ExecuteTime": {
     "end_time": "2025-01-17T08:30:04.820357Z",
     "start_time": "2025-01-17T08:30:04.543519Z"
    }
   },
   "outputs": [
    {
     "data": {
      "text/html": [
       "<style>#sk-container-id-1 {color: black;}#sk-container-id-1 pre{padding: 0;}#sk-container-id-1 div.sk-toggleable {background-color: white;}#sk-container-id-1 label.sk-toggleable__label {cursor: pointer;display: block;width: 100%;margin-bottom: 0;padding: 0.3em;box-sizing: border-box;text-align: center;}#sk-container-id-1 label.sk-toggleable__label-arrow:before {content: \"▸\";float: left;margin-right: 0.25em;color: #696969;}#sk-container-id-1 label.sk-toggleable__label-arrow:hover:before {color: black;}#sk-container-id-1 div.sk-estimator:hover label.sk-toggleable__label-arrow:before {color: black;}#sk-container-id-1 div.sk-toggleable__content {max-height: 0;max-width: 0;overflow: hidden;text-align: left;background-color: #f0f8ff;}#sk-container-id-1 div.sk-toggleable__content pre {margin: 0.2em;color: black;border-radius: 0.25em;background-color: #f0f8ff;}#sk-container-id-1 input.sk-toggleable__control:checked~div.sk-toggleable__content {max-height: 200px;max-width: 100%;overflow: auto;}#sk-container-id-1 input.sk-toggleable__control:checked~label.sk-toggleable__label-arrow:before {content: \"▾\";}#sk-container-id-1 div.sk-estimator input.sk-toggleable__control:checked~label.sk-toggleable__label {background-color: #d4ebff;}#sk-container-id-1 div.sk-label input.sk-toggleable__control:checked~label.sk-toggleable__label {background-color: #d4ebff;}#sk-container-id-1 input.sk-hidden--visually {border: 0;clip: rect(1px 1px 1px 1px);clip: rect(1px, 1px, 1px, 1px);height: 1px;margin: -1px;overflow: hidden;padding: 0;position: absolute;width: 1px;}#sk-container-id-1 div.sk-estimator {font-family: monospace;background-color: #f0f8ff;border: 1px dotted black;border-radius: 0.25em;box-sizing: border-box;margin-bottom: 0.5em;}#sk-container-id-1 div.sk-estimator:hover {background-color: #d4ebff;}#sk-container-id-1 div.sk-parallel-item::after {content: \"\";width: 100%;border-bottom: 1px solid gray;flex-grow: 1;}#sk-container-id-1 div.sk-label:hover label.sk-toggleable__label {background-color: #d4ebff;}#sk-container-id-1 div.sk-serial::before {content: \"\";position: absolute;border-left: 1px solid gray;box-sizing: border-box;top: 0;bottom: 0;left: 50%;z-index: 0;}#sk-container-id-1 div.sk-serial {display: flex;flex-direction: column;align-items: center;background-color: white;padding-right: 0.2em;padding-left: 0.2em;position: relative;}#sk-container-id-1 div.sk-item {position: relative;z-index: 1;}#sk-container-id-1 div.sk-parallel {display: flex;align-items: stretch;justify-content: center;background-color: white;position: relative;}#sk-container-id-1 div.sk-item::before, #sk-container-id-1 div.sk-parallel-item::before {content: \"\";position: absolute;border-left: 1px solid gray;box-sizing: border-box;top: 0;bottom: 0;left: 50%;z-index: -1;}#sk-container-id-1 div.sk-parallel-item {display: flex;flex-direction: column;z-index: 1;position: relative;background-color: white;}#sk-container-id-1 div.sk-parallel-item:first-child::after {align-self: flex-end;width: 50%;}#sk-container-id-1 div.sk-parallel-item:last-child::after {align-self: flex-start;width: 50%;}#sk-container-id-1 div.sk-parallel-item:only-child::after {width: 0;}#sk-container-id-1 div.sk-dashed-wrapped {border: 1px dashed gray;margin: 0 0.4em 0.5em 0.4em;box-sizing: border-box;padding-bottom: 0.4em;background-color: white;}#sk-container-id-1 div.sk-label label {font-family: monospace;font-weight: bold;display: inline-block;line-height: 1.2em;}#sk-container-id-1 div.sk-label-container {text-align: center;}#sk-container-id-1 div.sk-container {/* jupyter's `normalize.less` sets `[hidden] { display: none; }` but bootstrap.min.css set `[hidden] { display: none !important; }` so we also need the `!important` here to be able to override the default hidden behavior on the sphinx rendered scikit-learn.org. See: https://github.com/scikit-learn/scikit-learn/issues/21755 */display: inline-block !important;position: relative;}#sk-container-id-1 div.sk-text-repr-fallback {display: none;}</style><div id=\"sk-container-id-1\" class=\"sk-top-container\"><div class=\"sk-text-repr-fallback\"><pre>FourParamLogistic(A=0.0019494646874526637, B=2.8455949430183476,\n",
       "                  C=1.1722482500863325, D=2.504008722948324)</pre><b>In a Jupyter environment, please rerun this cell to show the HTML representation or trust the notebook. <br />On GitHub, the HTML representation is unable to render, please try loading this page with nbviewer.org.</b></div><div class=\"sk-container\" hidden><div class=\"sk-item\"><div class=\"sk-estimator sk-toggleable\"><input class=\"sk-toggleable__control sk-hidden--visually\" id=\"sk-estimator-id-1\" type=\"checkbox\" checked><label for=\"sk-estimator-id-1\" class=\"sk-toggleable__label sk-toggleable__label-arrow\">FourParamLogistic</label><div class=\"sk-toggleable__content\"><pre>FourParamLogistic(A=0.0019494646874526637, B=2.8455949430183476,\n",
       "                  C=1.1722482500863325, D=2.504008722948324)</pre></div></div></div></div></div>"
      ],
      "text/plain": [
       "FourParamLogistic(A=0.0019494646874526637, B=2.8455949430183476,\n",
       "                  C=1.1722482500863325, D=2.504008722948324)"
      ]
     },
     "execution_count": 4,
     "metadata": {},
     "output_type": "execute_result"
    }
   ],
   "source": [
    "# instantiate a 4PL model object\n",
    "four_pl_model = FourParamLogistic()\n",
    "\n",
    "x = df[\"known_concentration\"]\n",
    "y = df[\"instrument_response\"]\n",
    "\n",
    "\n",
    "# fit the model using the data\n",
    "four_pl_model.fit(x, y, weight_func=FourParamLogistic.inverse_variance_weight_function)\n",
    "four_pl_model"
   ]
  },
  {
   "cell_type": "code",
   "execution_count": 5,
   "metadata": {
    "ExecuteTime": {
     "end_time": "2025-01-17T08:30:11.142925Z",
     "start_time": "2025-01-17T08:30:11.134560Z"
    }
   },
   "outputs": [
    {
     "name": "stderr",
     "output_type": "stream",
     "text": [
      "/Users/luke/dev/bio-curve-fit/bio_curve_fit/logistic.py:470: RuntimeWarning: invalid value encountered in power\n",
      "  z = (np.sign(x / C) * np.abs(x / C)) ** B\n"
     ]
    },
    {
     "data": {
      "text/html": [
       "<style>#sk-container-id-2 {color: black;}#sk-container-id-2 pre{padding: 0;}#sk-container-id-2 div.sk-toggleable {background-color: white;}#sk-container-id-2 label.sk-toggleable__label {cursor: pointer;display: block;width: 100%;margin-bottom: 0;padding: 0.3em;box-sizing: border-box;text-align: center;}#sk-container-id-2 label.sk-toggleable__label-arrow:before {content: \"▸\";float: left;margin-right: 0.25em;color: #696969;}#sk-container-id-2 label.sk-toggleable__label-arrow:hover:before {color: black;}#sk-container-id-2 div.sk-estimator:hover label.sk-toggleable__label-arrow:before {color: black;}#sk-container-id-2 div.sk-toggleable__content {max-height: 0;max-width: 0;overflow: hidden;text-align: left;background-color: #f0f8ff;}#sk-container-id-2 div.sk-toggleable__content pre {margin: 0.2em;color: black;border-radius: 0.25em;background-color: #f0f8ff;}#sk-container-id-2 input.sk-toggleable__control:checked~div.sk-toggleable__content {max-height: 200px;max-width: 100%;overflow: auto;}#sk-container-id-2 input.sk-toggleable__control:checked~label.sk-toggleable__label-arrow:before {content: \"▾\";}#sk-container-id-2 div.sk-estimator input.sk-toggleable__control:checked~label.sk-toggleable__label {background-color: #d4ebff;}#sk-container-id-2 div.sk-label input.sk-toggleable__control:checked~label.sk-toggleable__label {background-color: #d4ebff;}#sk-container-id-2 input.sk-hidden--visually {border: 0;clip: rect(1px 1px 1px 1px);clip: rect(1px, 1px, 1px, 1px);height: 1px;margin: -1px;overflow: hidden;padding: 0;position: absolute;width: 1px;}#sk-container-id-2 div.sk-estimator {font-family: monospace;background-color: #f0f8ff;border: 1px dotted black;border-radius: 0.25em;box-sizing: border-box;margin-bottom: 0.5em;}#sk-container-id-2 div.sk-estimator:hover {background-color: #d4ebff;}#sk-container-id-2 div.sk-parallel-item::after {content: \"\";width: 100%;border-bottom: 1px solid gray;flex-grow: 1;}#sk-container-id-2 div.sk-label:hover label.sk-toggleable__label {background-color: #d4ebff;}#sk-container-id-2 div.sk-serial::before {content: \"\";position: absolute;border-left: 1px solid gray;box-sizing: border-box;top: 0;bottom: 0;left: 50%;z-index: 0;}#sk-container-id-2 div.sk-serial {display: flex;flex-direction: column;align-items: center;background-color: white;padding-right: 0.2em;padding-left: 0.2em;position: relative;}#sk-container-id-2 div.sk-item {position: relative;z-index: 1;}#sk-container-id-2 div.sk-parallel {display: flex;align-items: stretch;justify-content: center;background-color: white;position: relative;}#sk-container-id-2 div.sk-item::before, #sk-container-id-2 div.sk-parallel-item::before {content: \"\";position: absolute;border-left: 1px solid gray;box-sizing: border-box;top: 0;bottom: 0;left: 50%;z-index: -1;}#sk-container-id-2 div.sk-parallel-item {display: flex;flex-direction: column;z-index: 1;position: relative;background-color: white;}#sk-container-id-2 div.sk-parallel-item:first-child::after {align-self: flex-end;width: 50%;}#sk-container-id-2 div.sk-parallel-item:last-child::after {align-self: flex-start;width: 50%;}#sk-container-id-2 div.sk-parallel-item:only-child::after {width: 0;}#sk-container-id-2 div.sk-dashed-wrapped {border: 1px dashed gray;margin: 0 0.4em 0.5em 0.4em;box-sizing: border-box;padding-bottom: 0.4em;background-color: white;}#sk-container-id-2 div.sk-label label {font-family: monospace;font-weight: bold;display: inline-block;line-height: 1.2em;}#sk-container-id-2 div.sk-label-container {text-align: center;}#sk-container-id-2 div.sk-container {/* jupyter's `normalize.less` sets `[hidden] { display: none; }` but bootstrap.min.css set `[hidden] { display: none !important; }` so we also need the `!important` here to be able to override the default hidden behavior on the sphinx rendered scikit-learn.org. See: https://github.com/scikit-learn/scikit-learn/issues/21755 */display: inline-block !important;position: relative;}#sk-container-id-2 div.sk-text-repr-fallback {display: none;}</style><div id=\"sk-container-id-2\" class=\"sk-top-container\"><div class=\"sk-text-repr-fallback\"><pre>FiveParamLogistic(A=0.0020069022188437735, B=3.087040743897787,\n",
       "                  C=0.6903074268899858, D=3.689490114425458,\n",
       "                  E=0.20269436536413643)</pre><b>In a Jupyter environment, please rerun this cell to show the HTML representation or trust the notebook. <br />On GitHub, the HTML representation is unable to render, please try loading this page with nbviewer.org.</b></div><div class=\"sk-container\" hidden><div class=\"sk-item\"><div class=\"sk-estimator sk-toggleable\"><input class=\"sk-toggleable__control sk-hidden--visually\" id=\"sk-estimator-id-2\" type=\"checkbox\" checked><label for=\"sk-estimator-id-2\" class=\"sk-toggleable__label sk-toggleable__label-arrow\">FiveParamLogistic</label><div class=\"sk-toggleable__content\"><pre>FiveParamLogistic(A=0.0020069022188437735, B=3.087040743897787,\n",
       "                  C=0.6903074268899858, D=3.689490114425458,\n",
       "                  E=0.20269436536413643)</pre></div></div></div></div></div>"
      ],
      "text/plain": [
       "FiveParamLogistic(A=0.0020069022188437735, B=3.087040743897787,\n",
       "                  C=0.6903074268899858, D=3.689490114425458,\n",
       "                  E=0.20269436536413643)"
      ]
     },
     "execution_count": 5,
     "metadata": {},
     "output_type": "execute_result"
    }
   ],
   "source": [
    "# instantiate a 5PL model object\n",
    "five_pl_model = FiveParamLogistic()\n",
    "\n",
    "x = df[\"known_concentration\"]\n",
    "y = df[\"instrument_response\"]\n",
    "\n",
    "# fit the model using the data\n",
    "five_pl_model.fit(x, y, weight_func=FiveParamLogistic.inverse_variance_weight_function)\n",
    "five_pl_model"
   ]
  },
  {
   "cell_type": "markdown",
   "metadata": {
    "ExecuteTime": {
     "end_time": "2025-01-13T07:05:10.360211Z",
     "start_time": "2025-01-13T07:05:10.348757Z"
    }
   },
   "source": [
    "Note that when we performed the fit, we provided a weight function based on the magnitude of observed values. This weight scheme ensures our model is not biased towards high signal values--this is especially important because our data spans several orders of magnitude. You can provide your own preferred weight function during fitting.\n"
   ]
  },
  {
   "cell_type": "markdown",
   "metadata": {},
   "source": [
    "Both models have been fit to the data, and the best-fit parameters are visible above. The parameters can also be accessed individually:"
   ]
  },
  {
   "cell_type": "code",
   "execution_count": 7,
   "metadata": {
    "ExecuteTime": {
     "end_time": "2025-01-17T08:30:15.992935Z",
     "start_time": "2025-01-17T08:30:15.989036Z"
    }
   },
   "outputs": [
    {
     "data": {
      "text/plain": [
       "0.0020069022188437735"
      ]
     },
     "execution_count": 7,
     "metadata": {},
     "output_type": "execute_result"
    }
   ],
   "source": [
    "five_pl_model.A"
   ]
  },
  {
   "cell_type": "markdown",
   "metadata": {},
   "source": [
    "Since `bio-curve-fit` conforms with the scikit-learn API, we can easily check the $R^2$ using the `score()` method:"
   ]
  },
  {
   "cell_type": "code",
   "execution_count": 8,
   "metadata": {
    "ExecuteTime": {
     "end_time": "2025-01-17T08:30:17.496432Z",
     "start_time": "2025-01-17T08:30:17.398289Z"
    }
   },
   "outputs": [
    {
     "data": {
      "text/plain": [
       "0.9994288892281544"
      ]
     },
     "execution_count": 8,
     "metadata": {},
     "output_type": "execute_result"
    }
   ],
   "source": [
    "five_pl_model.score(x, y)"
   ]
  },
  {
   "cell_type": "markdown",
   "metadata": {},
   "source": [
    "The model fit also calculates upper and lower limits of detection:"
   ]
  },
  {
   "cell_type": "code",
   "execution_count": 9,
   "metadata": {
    "ExecuteTime": {
     "end_time": "2025-01-17T08:30:18.699610Z",
     "start_time": "2025-01-17T08:30:18.696660Z"
    }
   },
   "outputs": [
    {
     "name": "stdout",
     "output_type": "stream",
     "text": [
      "Lower Limit of Detection:  0.0021382706955215\n",
      "Upper Limit of Detection:  2.9972350868144138\n"
     ]
    }
   ],
   "source": [
    "print(\"Lower Limit of Detection: \", five_pl_model.LLOD_y_)\n",
    "print(\"Upper Limit of Detection: \", five_pl_model.ULOD_y_)"
   ]
  },
  {
   "cell_type": "markdown",
   "metadata": {},
   "source": [
    "The default methodology is to use a value 2.5 standard deviations above the fitted curve as the lower limit of detection (where \"standard deviation\" is the standard deviation of the the lowest concentration standard replicates). The upper limit of detection is calculated as the highest concentration standard.\n",
    "\n",
    "> Note: You can create your own methodology for calculating the LODs by passing a custom LOD function function into the `fit()` method. See [the code](../../bio_curve_fit/logistic.py) for more details.\n",
    "\n",
    "Finally, let's plot the data and the fitted models:"
   ]
  },
  {
   "cell_type": "code",
   "execution_count": 10,
   "metadata": {
    "ExecuteTime": {
     "end_time": "2025-01-17T08:30:21.156263Z",
     "start_time": "2025-01-17T08:30:21.115256Z"
    }
   },
   "outputs": [
    {
     "data": {
      "image/png": "[encoded data removed]",
      "text/plain": [
       "<Figure size 1000x600 with 1 Axes>"
      ]
     },
     "metadata": {},
     "output_type": "display_data"
    }
   ],
   "source": [
    "def generate_log_spaced_values(start, stop, num_points=100):\n",
    "    \"\"\"Calculate the logarithmic range.\"\"\"\n",
    "    log_start = np.log10(start)\n",
    "    log_stop = np.log10(stop)\n",
    "\n",
    "    return np.logspace(log_start, log_stop, num_points)\n",
    "\n",
    "\n",
    "smoothed_x_values = generate_log_spaced_values(\n",
    "    min(df[\"known_concentration\"]), max(df[\"known_concentration\"]), 100\n",
    ")\n",
    "\n",
    "four_pl_data = four_pl_model.predict(smoothed_x_values)\n",
    "five_pl_data = five_pl_model.predict(smoothed_x_values)\n",
    "\n",
    "plt.figure(figsize=(10, 6))\n",
    "plt.scatter(\n",
    "    df[\"known_concentration\"],\n",
    "    df[\"instrument_response\"],\n",
    "    color=\"blue\",\n",
    "    alpha=0.6,\n",
    "    label=\"Raw Data\",\n",
    ")\n",
    "\n",
    "# Plot the true model curve\n",
    "plt.plot(\n",
    "    smoothed_x_values,\n",
    "    five_pl_data,\n",
    "    color=\"red\",\n",
    "    linestyle=\"--\",\n",
    "    linewidth=2,\n",
    "    label=\"Predicted 5PL Model\",\n",
    ")\n",
    "plt.plot(\n",
    "    smoothed_x_values,\n",
    "    four_pl_data,\n",
    "    color=\"green\",\n",
    "    linestyle=\"--\",\n",
    "    linewidth=2,\n",
    "    label=\"Predicted 4PL Model\",\n",
    ")\n",
    "\n",
    "# Labels and title\n",
    "plt.xlabel(\"X values\")\n",
    "plt.ylabel(\"Y values\")\n",
    "plt.xscale(\"log\")\n",
    "plt.yscale(\"log\")\n",
    "plt.title(f\"Measured Data and Predicted Models\")\n",
    "plt.legend()\n",
    "plt.show()"
   ]
  },
  {
   "cell_type": "markdown",
   "metadata": {},
   "source": [
    "While somewhat subtle, close observation reveals superior performance of the 5PL model for higher concentration samples. Plotting the residuals for each model more clearly demonstrates the superior performance of the 5PL model.\n",
    "\n"
   ]
  },
  {
   "cell_type": "code",
   "execution_count": null,
   "metadata": {
    "ExecuteTime": {
     "end_time": "2025-01-17T08:30:24.042074Z",
     "start_time": "2025-01-17T08:30:24.021863Z"
    }
   },
   "outputs": [],
   "source": [
    "df[\"4PL_predicted\"] = four_pl_model.predict(df[\"known_concentration\"])\n",
    "df[\"5PL_predicted\"] = five_pl_model.predict(df[\"known_concentration\"])\n",
    "df[\"4PL_residual\"] = df[\"instrument_response\"] - df[\"4PL_predicted\"]\n",
    "df[\"5PL_residual\"] = df[\"instrument_response\"] - df[\"5PL_predicted\"]"
   ]
  },
  {
   "cell_type": "code",
   "execution_count": 12,
   "metadata": {
    "ExecuteTime": {
     "end_time": "2025-01-17T08:30:25.164917Z",
     "start_time": "2025-01-17T08:30:24.904627Z"
    }
   },
   "outputs": [
    {
     "data": {
      "image/png": "[encoded data removed]",
      "text/plain": [
       "<Figure size 800x500 with 1 Axes>"
      ]
     },
     "metadata": {},
     "output_type": "display_data"
    }
   ],
   "source": [
    "plt.figure(figsize=(8, 5))\n",
    "\n",
    "plt.bar(\n",
    "    df[\"known_concentration\"], df[\"4PL_residual\"], color=\"skyblue\", label=\"4PL Residual\"\n",
    ")\n",
    "plt.bar(\n",
    "    df[\"known_concentration\"], df[\"5PL_residual\"], color=\"red\", label=\"5PL Residual\"\n",
    ")\n",
    "\n",
    "plt.xscale(\"log\")\n",
    "plt.xlabel(\"Known Concentration\")\n",
    "plt.ylabel(\"Residual\")\n",
    "plt.legend()\n",
    "plt.grid()\n",
    "plt.title(\"Residuals by Concentration\")\n",
    "\n",
    "plt.show()"
   ]
  },
  {
   "cell_type": "markdown",
   "metadata": {},
   "source": [
    "Satisfied with our model, we can now predict concentrations for our experimental samples."
   ]
  },
  {
   "cell_type": "markdown",
   "metadata": {},
   "source": [
    "Note that we use the `predict_inverse()` function because we are predicting the concentration of the unknown samples from the measured signal."
   ]
  }
 ],
 "metadata": {
  "kernelspec": {
   "display_name": ".venv",
   "language": "python",
   "name": "python3"
  },
  "language_info": {
   "codemirror_mode": {
    "name": "ipython",
    "version": 3
   },
   "file_extension": ".py",
   "mimetype": "text/x-python",
   "name": "python",
   "nbconvert_exporter": "python",
   "pygments_lexer": "ipython3",
   "version": "3.11.3"
  }
 },
 "nbformat": 4,
 "nbformat_minor": 2
}
