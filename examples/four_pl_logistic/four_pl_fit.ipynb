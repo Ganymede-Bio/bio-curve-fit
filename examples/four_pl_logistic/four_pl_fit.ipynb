{
 "cells": [
  {
   "cell_type": "markdown",
   "metadata": {},
   "source": [
    "<a target=\"_blank\" href=\"https://colab.research.google.com/github/Ganymede-Bio/bio-curve-fit/blob/main/examples/four_pl_logistic/four_pl_fit.ipynb\">\n",
    "  <img src=\"https://colab.research.google.com/assets/colab-badge.svg\" alt=\"Open In Colab\"/>\n",
    "</a>"
   ]
  },
  {
   "cell_type": "code",
   "metadata": {
    "ExecuteTime": {
     "end_time": "2025-01-17T08:29:02.623235Z",
     "start_time": "2025-01-17T08:29:01.975163Z"
    }
   },
   "source": [
    "! pip install bio-curve-fit"
   ],
   "outputs": [
    {
     "name": "stdout",
     "output_type": "stream",
     "text": [
      "Requirement already satisfied: bio-curve-fit in /Users/nickflores_ganymede/Library/Caches/pypoetry/virtualenvs/bio-curve-fit-WuAbQiBo-py3.11/lib/python3.11/site-packages (0.2.2)\r\n",
      "Requirement already satisfied: adjusttext<2.0.0,>=1.2.0 in /Users/nickflores_ganymede/Library/Caches/pypoetry/virtualenvs/bio-curve-fit-WuAbQiBo-py3.11/lib/python3.11/site-packages (from bio-curve-fit) (1.2.0)\r\n",
      "Requirement already satisfied: matplotlib>=3.7.1 in /Users/nickflores_ganymede/Library/Caches/pypoetry/virtualenvs/bio-curve-fit-WuAbQiBo-py3.11/lib/python3.11/site-packages (from bio-curve-fit) (3.7.5)\r\n",
      "Requirement already satisfied: pandas>=1.5.3 in /Users/nickflores_ganymede/Library/Caches/pypoetry/virtualenvs/bio-curve-fit-WuAbQiBo-py3.11/lib/python3.11/site-packages (from bio-curve-fit) (2.0.3)\r\n",
      "Requirement already satisfied: scikit-learn>=1.2.2 in /Users/nickflores_ganymede/Library/Caches/pypoetry/virtualenvs/bio-curve-fit-WuAbQiBo-py3.11/lib/python3.11/site-packages (from bio-curve-fit) (1.3.2)\r\n",
      "Requirement already satisfied: numpy in /Users/nickflores_ganymede/Library/Caches/pypoetry/virtualenvs/bio-curve-fit-WuAbQiBo-py3.11/lib/python3.11/site-packages (from adjusttext<2.0.0,>=1.2.0->bio-curve-fit) (1.24.4)\r\n",
      "Requirement already satisfied: scipy in /Users/nickflores_ganymede/Library/Caches/pypoetry/virtualenvs/bio-curve-fit-WuAbQiBo-py3.11/lib/python3.11/site-packages (from adjusttext<2.0.0,>=1.2.0->bio-curve-fit) (1.9.3)\r\n",
      "Requirement already satisfied: contourpy>=1.0.1 in /Users/nickflores_ganymede/Library/Caches/pypoetry/virtualenvs/bio-curve-fit-WuAbQiBo-py3.11/lib/python3.11/site-packages (from matplotlib>=3.7.1->bio-curve-fit) (1.1.1)\r\n",
      "Requirement already satisfied: cycler>=0.10 in /Users/nickflores_ganymede/Library/Caches/pypoetry/virtualenvs/bio-curve-fit-WuAbQiBo-py3.11/lib/python3.11/site-packages (from matplotlib>=3.7.1->bio-curve-fit) (0.12.1)\r\n",
      "Requirement already satisfied: fonttools>=4.22.0 in /Users/nickflores_ganymede/Library/Caches/pypoetry/virtualenvs/bio-curve-fit-WuAbQiBo-py3.11/lib/python3.11/site-packages (from matplotlib>=3.7.1->bio-curve-fit) (4.53.1)\r\n",
      "Requirement already satisfied: kiwisolver>=1.0.1 in /Users/nickflores_ganymede/Library/Caches/pypoetry/virtualenvs/bio-curve-fit-WuAbQiBo-py3.11/lib/python3.11/site-packages (from matplotlib>=3.7.1->bio-curve-fit) (1.4.5)\r\n",
      "Requirement already satisfied: packaging>=20.0 in /Users/nickflores_ganymede/Library/Caches/pypoetry/virtualenvs/bio-curve-fit-WuAbQiBo-py3.11/lib/python3.11/site-packages (from matplotlib>=3.7.1->bio-curve-fit) (24.1)\r\n",
      "Requirement already satisfied: pillow>=6.2.0 in /Users/nickflores_ganymede/Library/Caches/pypoetry/virtualenvs/bio-curve-fit-WuAbQiBo-py3.11/lib/python3.11/site-packages (from matplotlib>=3.7.1->bio-curve-fit) (10.4.0)\r\n",
      "Requirement already satisfied: pyparsing>=2.3.1 in /Users/nickflores_ganymede/Library/Caches/pypoetry/virtualenvs/bio-curve-fit-WuAbQiBo-py3.11/lib/python3.11/site-packages (from matplotlib>=3.7.1->bio-curve-fit) (3.1.4)\r\n",
      "Requirement already satisfied: python-dateutil>=2.7 in /Users/nickflores_ganymede/Library/Caches/pypoetry/virtualenvs/bio-curve-fit-WuAbQiBo-py3.11/lib/python3.11/site-packages (from matplotlib>=3.7.1->bio-curve-fit) (2.9.0.post0)\r\n",
      "Requirement already satisfied: pytz>=2020.1 in /Users/nickflores_ganymede/Library/Caches/pypoetry/virtualenvs/bio-curve-fit-WuAbQiBo-py3.11/lib/python3.11/site-packages (from pandas>=1.5.3->bio-curve-fit) (2024.1)\r\n",
      "Requirement already satisfied: tzdata>=2022.1 in /Users/nickflores_ganymede/Library/Caches/pypoetry/virtualenvs/bio-curve-fit-WuAbQiBo-py3.11/lib/python3.11/site-packages (from pandas>=1.5.3->bio-curve-fit) (2024.1)\r\n",
      "Requirement already satisfied: joblib>=1.1.1 in /Users/nickflores_ganymede/Library/Caches/pypoetry/virtualenvs/bio-curve-fit-WuAbQiBo-py3.11/lib/python3.11/site-packages (from scikit-learn>=1.2.2->bio-curve-fit) (1.4.2)\r\n",
      "Requirement already satisfied: threadpoolctl>=2.0.0 in /Users/nickflores_ganymede/Library/Caches/pypoetry/virtualenvs/bio-curve-fit-WuAbQiBo-py3.11/lib/python3.11/site-packages (from scikit-learn>=1.2.2->bio-curve-fit) (3.5.0)\r\n",
      "Requirement already satisfied: six>=1.5 in /Users/nickflores_ganymede/Library/Caches/pypoetry/virtualenvs/bio-curve-fit-WuAbQiBo-py3.11/lib/python3.11/site-packages (from python-dateutil>=2.7->matplotlib>=3.7.1->bio-curve-fit) (1.16.0)\r\n",
      "\r\n",
      "\u001B[1m[\u001B[0m\u001B[34;49mnotice\u001B[0m\u001B[1;39;49m]\u001B[0m\u001B[39;49m A new release of pip is available: \u001B[0m\u001B[31;49m24.1\u001B[0m\u001B[39;49m -> \u001B[0m\u001B[32;49m24.3.1\u001B[0m\r\n",
      "\u001B[1m[\u001B[0m\u001B[34;49mnotice\u001B[0m\u001B[1;39;49m]\u001B[0m\u001B[39;49m To update, run: \u001B[0m\u001B[32;49mpip install --upgrade pip\u001B[0m\r\n"
     ]
    }
   ],
   "execution_count": 1
  },
  {
   "cell_type": "code",
   "metadata": {
    "ExecuteTime": {
     "end_time": "2025-01-17T08:29:14.940473Z",
     "start_time": "2025-01-17T08:29:13.483589Z"
    }
   },
   "source": [
    "import pandas as pd\n",
    "from bio_curve_fit.logistic import FourParamLogistic\n",
    "from bio_curve_fit.plotting import plot_standard_curve\n",
    "import io"
   ],
   "outputs": [],
   "execution_count": 2
  },
  {
   "cell_type": "markdown",
   "metadata": {},
   "source": [
    "# Fitting a Four-Parameter Logistic Model to Create a Standard Curve using `bio-curve-fit`"
   ]
  },
  {
   "cell_type": "markdown",
   "metadata": {},
   "source": [
    "Suppose we have some standard samples with a known concentration of some analyte, and we've tested these standards on some instrument and recorded the observed response signal. "
   ]
  },
  {
   "cell_type": "code",
   "metadata": {
    "ExecuteTime": {
     "end_time": "2025-01-17T08:29:14.963610Z",
     "start_time": "2025-01-17T08:29:14.951455Z"
    }
   },
   "source": [
    "standard_curve_csv = \"\"\"\n",
    "known_concentration,instrument_response\n",
    "348.0,216993\n",
    "87.0,61126\n",
    "21.75,15320\n",
    "5.4375,3960\n",
    "1.359375,1127\n",
    "0.33984375,500\n",
    "0.0849609375,411\n",
    "0.021240234375,350\n",
    "0.0,440\n",
    "348.0,220711\n",
    "87.0,58840\n",
    "21.75,13650\n",
    "5.4375,3600\n",
    "1.359375,1150\n",
    "0.33984375,580\n",
    "0.0849609375,410\n",
    "0.021240234375,390\n",
    "0.0,461\n",
    "\"\"\"\n",
    "\n",
    "df = pd.read_csv(io.StringIO(standard_curve_csv))\n",
    "df"
   ],
   "outputs": [
    {
     "data": {
      "text/plain": [
       "    known_concentration  instrument_response\n",
       "0            348.000000               216993\n",
       "1             87.000000                61126\n",
       "2             21.750000                15320\n",
       "3              5.437500                 3960\n",
       "4              1.359375                 1127\n",
       "5              0.339844                  500\n",
       "6              0.084961                  411\n",
       "7              0.021240                  350\n",
       "8              0.000000                  440\n",
       "9            348.000000               220711\n",
       "10            87.000000                58840\n",
       "11            21.750000                13650\n",
       "12             5.437500                 3600\n",
       "13             1.359375                 1150\n",
       "14             0.339844                  580\n",
       "15             0.084961                  410\n",
       "16             0.021240                  390\n",
       "17             0.000000                  461"
      ],
      "text/html": [
       "<div>\n",
       "<style scoped>\n",
       "    .dataframe tbody tr th:only-of-type {\n",
       "        vertical-align: middle;\n",
       "    }\n",
       "\n",
       "    .dataframe tbody tr th {\n",
       "        vertical-align: top;\n",
       "    }\n",
       "\n",
       "    .dataframe thead th {\n",
       "        text-align: right;\n",
       "    }\n",
       "</style>\n",
       "<table border=\"1\" class=\"dataframe\">\n",
       "  <thead>\n",
       "    <tr style=\"text-align: right;\">\n",
       "      <th></th>\n",
       "      <th>known_concentration</th>\n",
       "      <th>instrument_response</th>\n",
       "    </tr>\n",
       "  </thead>\n",
       "  <tbody>\n",
       "    <tr>\n",
       "      <th>0</th>\n",
       "      <td>348.000000</td>\n",
       "      <td>216993</td>\n",
       "    </tr>\n",
       "    <tr>\n",
       "      <th>1</th>\n",
       "      <td>87.000000</td>\n",
       "      <td>61126</td>\n",
       "    </tr>\n",
       "    <tr>\n",
       "      <th>2</th>\n",
       "      <td>21.750000</td>\n",
       "      <td>15320</td>\n",
       "    </tr>\n",
       "    <tr>\n",
       "      <th>3</th>\n",
       "      <td>5.437500</td>\n",
       "      <td>3960</td>\n",
       "    </tr>\n",
       "    <tr>\n",
       "      <th>4</th>\n",
       "      <td>1.359375</td>\n",
       "      <td>1127</td>\n",
       "    </tr>\n",
       "    <tr>\n",
       "      <th>5</th>\n",
       "      <td>0.339844</td>\n",
       "      <td>500</td>\n",
       "    </tr>\n",
       "    <tr>\n",
       "      <th>6</th>\n",
       "      <td>0.084961</td>\n",
       "      <td>411</td>\n",
       "    </tr>\n",
       "    <tr>\n",
       "      <th>7</th>\n",
       "      <td>0.021240</td>\n",
       "      <td>350</td>\n",
       "    </tr>\n",
       "    <tr>\n",
       "      <th>8</th>\n",
       "      <td>0.000000</td>\n",
       "      <td>440</td>\n",
       "    </tr>\n",
       "    <tr>\n",
       "      <th>9</th>\n",
       "      <td>348.000000</td>\n",
       "      <td>220711</td>\n",
       "    </tr>\n",
       "    <tr>\n",
       "      <th>10</th>\n",
       "      <td>87.000000</td>\n",
       "      <td>58840</td>\n",
       "    </tr>\n",
       "    <tr>\n",
       "      <th>11</th>\n",
       "      <td>21.750000</td>\n",
       "      <td>13650</td>\n",
       "    </tr>\n",
       "    <tr>\n",
       "      <th>12</th>\n",
       "      <td>5.437500</td>\n",
       "      <td>3600</td>\n",
       "    </tr>\n",
       "    <tr>\n",
       "      <th>13</th>\n",
       "      <td>1.359375</td>\n",
       "      <td>1150</td>\n",
       "    </tr>\n",
       "    <tr>\n",
       "      <th>14</th>\n",
       "      <td>0.339844</td>\n",
       "      <td>580</td>\n",
       "    </tr>\n",
       "    <tr>\n",
       "      <th>15</th>\n",
       "      <td>0.084961</td>\n",
       "      <td>410</td>\n",
       "    </tr>\n",
       "    <tr>\n",
       "      <th>16</th>\n",
       "      <td>0.021240</td>\n",
       "      <td>390</td>\n",
       "    </tr>\n",
       "    <tr>\n",
       "      <th>17</th>\n",
       "      <td>0.000000</td>\n",
       "      <td>461</td>\n",
       "    </tr>\n",
       "  </tbody>\n",
       "</table>\n",
       "</div>"
      ]
     },
     "execution_count": 3,
     "metadata": {},
     "output_type": "execute_result"
    }
   ],
   "execution_count": 3
  },
  {
   "cell_type": "code",
   "metadata": {
    "ExecuteTime": {
     "end_time": "2025-01-17T08:29:16.453051Z",
     "start_time": "2025-01-17T08:29:16.198964Z"
    }
   },
   "source": [
    "df.plot.scatter(x=\"known_concentration\", y=\"instrument_response\", logx=True, logy=True)"
   ],
   "outputs": [
    {
     "data": {
      "text/plain": [
       "<Axes: xlabel='known_concentration', ylabel='instrument_response'>"
      ]
     },
     "execution_count": 4,
     "metadata": {},
     "output_type": "execute_result"
    },
    {
     "data": {
      "text/plain": [
       "<Figure size 640x480 with 1 Axes>"
      ],
      "image/png": "[encoded data removed]"
     },
     "metadata": {},
     "output_type": "display_data"
    }
   ],
   "execution_count": 4
  },
  {
   "cell_type": "markdown",
   "metadata": {},
   "source": [
    "Note the standards have been tested in duplicate in 4:1 serial dilutions. \n",
    "\n",
    "Now we'd like to fit a standard curve to these data to estimate the concentration of an unknown sample given its observed response signal. Per the plot, we clearly need a non-linear model to fit the data.\n",
    "\n",
    "To do this, we'll use the `bio-curve-fit` package to fit a four-parameter logistic model to the data. The four-parameter logistic model is commonly used to fit dose-response data, and is defined as:\n",
    "\n",
    "$$f(x) = \\frac{A-D}{1+\\left(\\frac{x}{C}\\right)^B}+D$$\n",
    "\n",
    "`bio-curve-fit` will find the values for the parameters $A$, $B$, $C$, and $D$ that best fit the example data above."
   ]
  },
  {
   "cell_type": "code",
   "metadata": {
    "ExecuteTime": {
     "end_time": "2025-01-17T08:29:22.210728Z",
     "start_time": "2025-01-17T08:29:22.199645Z"
    }
   },
   "source": [
    "# instantiate a model object\n",
    "model = FourParamLogistic()\n",
    "\n",
    "x = df[\"known_concentration\"]\n",
    "y = df[\"instrument_response\"]\n",
    "\n",
    "\n",
    "# fit the model using the data\n",
    "model.fit(x, y)\n",
    "model"
   ],
   "outputs": [
    {
     "name": "stdout",
     "output_type": "stream",
     "text": [
      "required param is: A\n",
      "param predicted was: 407.9656904058429\n",
      "required param is: B\n",
      "param predicted was: 1.0713507374783195\n",
      "required param is: C\n",
      "param predicted was: 1139.4508608333288\n",
      "required param is: D\n",
      "param predicted was: 997268.108428393\n",
      "param dict is: {'A': 407.9656904058429, 'B': 1.0713507374783195, 'C': 1139.4508608333288, 'D': 997268.108428393}\n"
     ]
    },
    {
     "data": {
      "text/plain": [
       "FourParamLogistic(A=407.9656904058429, B=1.0713507374783195,\n",
       "                  C=1139.4508608333288, D=997268.108428393)"
      ],
      "text/html": [
       "<style>#sk-container-id-1 {color: black;}#sk-container-id-1 pre{padding: 0;}#sk-container-id-1 div.sk-toggleable {background-color: white;}#sk-container-id-1 label.sk-toggleable__label {cursor: pointer;display: block;width: 100%;margin-bottom: 0;padding: 0.3em;box-sizing: border-box;text-align: center;}#sk-container-id-1 label.sk-toggleable__label-arrow:before {content: \"▸\";float: left;margin-right: 0.25em;color: #696969;}#sk-container-id-1 label.sk-toggleable__label-arrow:hover:before {color: black;}#sk-container-id-1 div.sk-estimator:hover label.sk-toggleable__label-arrow:before {color: black;}#sk-container-id-1 div.sk-toggleable__content {max-height: 0;max-width: 0;overflow: hidden;text-align: left;background-color: #f0f8ff;}#sk-container-id-1 div.sk-toggleable__content pre {margin: 0.2em;color: black;border-radius: 0.25em;background-color: #f0f8ff;}#sk-container-id-1 input.sk-toggleable__control:checked~div.sk-toggleable__content {max-height: 200px;max-width: 100%;overflow: auto;}#sk-container-id-1 input.sk-toggleable__control:checked~label.sk-toggleable__label-arrow:before {content: \"▾\";}#sk-container-id-1 div.sk-estimator input.sk-toggleable__control:checked~label.sk-toggleable__label {background-color: #d4ebff;}#sk-container-id-1 div.sk-label input.sk-toggleable__control:checked~label.sk-toggleable__label {background-color: #d4ebff;}#sk-container-id-1 input.sk-hidden--visually {border: 0;clip: rect(1px 1px 1px 1px);clip: rect(1px, 1px, 1px, 1px);height: 1px;margin: -1px;overflow: hidden;padding: 0;position: absolute;width: 1px;}#sk-container-id-1 div.sk-estimator {font-family: monospace;background-color: #f0f8ff;border: 1px dotted black;border-radius: 0.25em;box-sizing: border-box;margin-bottom: 0.5em;}#sk-container-id-1 div.sk-estimator:hover {background-color: #d4ebff;}#sk-container-id-1 div.sk-parallel-item::after {content: \"\";width: 100%;border-bottom: 1px solid gray;flex-grow: 1;}#sk-container-id-1 div.sk-label:hover label.sk-toggleable__label {background-color: #d4ebff;}#sk-container-id-1 div.sk-serial::before {content: \"\";position: absolute;border-left: 1px solid gray;box-sizing: border-box;top: 0;bottom: 0;left: 50%;z-index: 0;}#sk-container-id-1 div.sk-serial {display: flex;flex-direction: column;align-items: center;background-color: white;padding-right: 0.2em;padding-left: 0.2em;position: relative;}#sk-container-id-1 div.sk-item {position: relative;z-index: 1;}#sk-container-id-1 div.sk-parallel {display: flex;align-items: stretch;justify-content: center;background-color: white;position: relative;}#sk-container-id-1 div.sk-item::before, #sk-container-id-1 div.sk-parallel-item::before {content: \"\";position: absolute;border-left: 1px solid gray;box-sizing: border-box;top: 0;bottom: 0;left: 50%;z-index: -1;}#sk-container-id-1 div.sk-parallel-item {display: flex;flex-direction: column;z-index: 1;position: relative;background-color: white;}#sk-container-id-1 div.sk-parallel-item:first-child::after {align-self: flex-end;width: 50%;}#sk-container-id-1 div.sk-parallel-item:last-child::after {align-self: flex-start;width: 50%;}#sk-container-id-1 div.sk-parallel-item:only-child::after {width: 0;}#sk-container-id-1 div.sk-dashed-wrapped {border: 1px dashed gray;margin: 0 0.4em 0.5em 0.4em;box-sizing: border-box;padding-bottom: 0.4em;background-color: white;}#sk-container-id-1 div.sk-label label {font-family: monospace;font-weight: bold;display: inline-block;line-height: 1.2em;}#sk-container-id-1 div.sk-label-container {text-align: center;}#sk-container-id-1 div.sk-container {/* jupyter's `normalize.less` sets `[hidden] { display: none; }` but bootstrap.min.css set `[hidden] { display: none !important; }` so we also need the `!important` here to be able to override the default hidden behavior on the sphinx rendered scikit-learn.org. See: https://github.com/scikit-learn/scikit-learn/issues/21755 */display: inline-block !important;position: relative;}#sk-container-id-1 div.sk-text-repr-fallback {display: none;}</style><div id=\"sk-container-id-1\" class=\"sk-top-container\"><div class=\"sk-text-repr-fallback\"><pre>FourParamLogistic(A=407.9656904058429, B=1.0713507374783195,\n",
       "                  C=1139.4508608333288, D=997268.108428393)</pre><b>In a Jupyter environment, please rerun this cell to show the HTML representation or trust the notebook. <br />On GitHub, the HTML representation is unable to render, please try loading this page with nbviewer.org.</b></div><div class=\"sk-container\" hidden><div class=\"sk-item\"><div class=\"sk-estimator sk-toggleable\"><input class=\"sk-toggleable__control sk-hidden--visually\" id=\"sk-estimator-id-1\" type=\"checkbox\" checked><label for=\"sk-estimator-id-1\" class=\"sk-toggleable__label sk-toggleable__label-arrow\">FourParamLogistic</label><div class=\"sk-toggleable__content\"><pre>FourParamLogistic(A=407.9656904058429, B=1.0713507374783195,\n",
       "                  C=1139.4508608333288, D=997268.108428393)</pre></div></div></div></div></div>"
      ]
     },
     "execution_count": 5,
     "metadata": {},
     "output_type": "execute_result"
    }
   ],
   "execution_count": 5
  },
  {
   "cell_type": "markdown",
   "metadata": {},
   "source": [
    "The model has been fit to the data, and the best-fit parameters are visible above. They can also be accessed individually:"
   ]
  },
  {
   "cell_type": "code",
   "execution_count": 7,
   "metadata": {
    "ExecuteTime": {
     "end_time": "2025-01-13T08:27:10.771665Z",
     "start_time": "2025-01-13T08:27:10.769016Z"
    }
   },
   "outputs": [
    {
     "data": {
      "text/plain": [
       "407.9656904058429"
      ]
     },
     "execution_count": 7,
     "metadata": {},
     "output_type": "execute_result"
    }
   ],
   "source": [
    "model.params[\"A\"]"
   ]
  },
  {
   "cell_type": "markdown",
   "metadata": {},
   "source": [
    "Since `bio-curve-fit` conforms with the scikit-learn API, we can easily check the $R^2$ using the `score()` method:"
   ]
  },
  {
   "cell_type": "code",
   "execution_count": 8,
   "metadata": {
    "ExecuteTime": {
     "end_time": "2025-01-13T08:27:12.507661Z",
     "start_time": "2025-01-13T08:27:12.455571Z"
    }
   },
   "outputs": [
    {
     "data": {
      "text/plain": [
       "0.9998676357610702"
      ]
     },
     "execution_count": 8,
     "metadata": {},
     "output_type": "execute_result"
    }
   ],
   "source": [
    "model.score(x, y)"
   ]
  },
  {
   "cell_type": "markdown",
   "metadata": {},
   "source": [
    "The model fit also calculates upper and lower limits of detection:"
   ]
  },
  {
   "cell_type": "code",
   "execution_count": 9,
   "metadata": {
    "ExecuteTime": {
     "end_time": "2025-01-13T08:27:13.414783Z",
     "start_time": "2025-01-13T08:27:13.411499Z"
    }
   },
   "outputs": [
    {
     "name": "stdout",
     "output_type": "stream",
     "text": [
      "Lower Limit of Detection:  0.1698812720922227\n",
      "Upper Limit of Detection:  348.0\n"
     ]
    }
   ],
   "source": [
    "print(\"Lower Limit of Detection: \", model.LLOD_)\n",
    "print(\"Upper Limit of Detection: \", model.ULOD_)"
   ]
  },
  {
   "cell_type": "markdown",
   "metadata": {},
   "source": [
    "The default methodology is to use a value 2.5 standard deviations above the fitted curve as the lower limit of detection (where \"standard deviation\" is the standard deviation of the the lowest concentration standard replicates). The upper limit of detection is calculated as the highest concentration standard.\n",
    "\n",
    "> Note: You can create your own methodology for calculating the LODs by passing a custom LOD function function into the `fit()` method. See [the code](../../bio_curve_fit/logistic.py) for more details.\n",
    "\n",
    "Finally, let's plot the data and the fitted model:"
   ]
  },
  {
   "cell_type": "code",
   "execution_count": 10,
   "metadata": {
    "ExecuteTime": {
     "end_time": "2025-01-13T08:27:14.712939Z",
     "start_time": "2025-01-13T08:27:14.403648Z"
    }
   },
   "outputs": [
    {
     "data": {
      "image/png": "[encoded data removed]",
      "text/plain": [
       "<Figure size 640x480 with 1 Axes>"
      ]
     },
     "metadata": {},
     "output_type": "display_data"
    },
    {
     "data": {
      "text/plain": [
       "<Figure size 640x480 with 0 Axes>"
      ]
     },
     "metadata": {},
     "output_type": "display_data"
    }
   ],
   "source": [
    "plot_image_bytes = plot_standard_curve(\n",
    "    x, y, model, title=f\"Standard Curve Example\", show_plot=True\n",
    ")\n",
    "\n",
    "# save the image to a file\n",
    "with open(\"plot.png\", \"wb\") as f:\n",
    "    f.write(plot_image_bytes)"
   ]
  },
  {
   "cell_type": "markdown",
   "metadata": {},
   "source": [
    "The fit looks pretty good, but seems to be overshooting the data at the lower concentrations. "
   ]
  },
  {
   "cell_type": "markdown",
   "metadata": {},
   "source": [
    "\n",
    " Let's try fitting the model again, but this time with a weighting function that is commonly used to account for heteroskedasticity that is common in dose-response data that varies over several orders of magnitude.\n",
    "\n",
    "The model below uses the built-in `inverse_variance_weight_function` which implements an inverse-variance residual weighting function $(1/y^2)$. You can also pass in your own custom weighting functions."
   ]
  },
  {
   "cell_type": "code",
   "metadata": {
    "ExecuteTime": {
     "end_time": "2025-01-17T08:29:35.150348Z",
     "start_time": "2025-01-17T08:29:34.851211Z"
    }
   },
   "source": [
    "model2 = FourParamLogistic()\n",
    "model2.fit(x, y, weight_func=FourParamLogistic.inverse_variance_weight_function)\n",
    "\n",
    "image_bytes = plot_standard_curve(\n",
    "    x, y, model2, title=f\"Weighted Standard Curve Example\", show_plot=True\n",
    ")"
   ],
   "outputs": [
    {
     "name": "stdout",
     "output_type": "stream",
     "text": [
      "required param is: A\n",
      "param predicted was: 386.0957433208155\n",
      "required param is: B\n",
      "param predicted was: 1.0746861140245014\n",
      "required param is: C\n",
      "param predicted was: 1038.018384725577\n",
      "required param is: D\n",
      "param predicted was: 922913.4640984788\n",
      "param dict is: {'A': 386.0957433208155, 'B': 1.0746861140245014, 'C': 1038.018384725577, 'D': 922913.4640984788}\n"
     ]
    },
    {
     "data": {
      "text/plain": [
       "<Figure size 640x480 with 1 Axes>"
      ],
      "image/png": "[encoded data removed]"
     },
     "metadata": {},
     "output_type": "display_data"
    },
    {
     "data": {
      "text/plain": [
       "<Figure size 640x480 with 0 Axes>"
      ]
     },
     "metadata": {},
     "output_type": "display_data"
    }
   ],
   "execution_count": 6
  },
  {
   "cell_type": "markdown",
   "metadata": {},
   "source": [
    "The fit looks even better now! Let's use the fitted model to calculate the concentration of unknown samples given their measured instrument responses:"
   ]
  },
  {
   "cell_type": "code",
   "execution_count": 12,
   "metadata": {
    "ExecuteTime": {
     "end_time": "2025-01-13T08:27:20.487266Z",
     "start_time": "2025-01-13T08:27:20.483038Z"
    }
   },
   "outputs": [
    {
     "data": {
      "text/plain": [
       "array([ 0.03384359,  0.23957172,  2.82759998, 15.00047935, 29.42389068])"
      ]
     },
     "execution_count": 12,
     "metadata": {},
     "output_type": "execute_result"
    }
   ],
   "source": [
    "newly_measured_responses = [400, 500, 2000, 10_000, 20_000]\n",
    "model2.predict_inverse(newly_measured_responses)"
   ]
  },
  {
   "cell_type": "markdown",
   "metadata": {},
   "source": [
    "Note that we use the `predict_inverse()` function because we are predicting the concentration of the unknown samples from the measured signal. I.e. given the plots above, we've measured new values of $y$ (instrument response) and want to predict the corresponding values of $x$ (analyte concentration)."
   ]
  }
 ],
 "metadata": {
  "kernelspec": {
   "display_name": ".venv",
   "language": "python",
   "name": "python3"
  },
  "language_info": {
   "codemirror_mode": {
    "name": "ipython",
    "version": 3
   },
   "file_extension": ".py",
   "mimetype": "text/x-python",
   "name": "python",
   "nbconvert_exporter": "python",
   "pygments_lexer": "ipython3",
   "version": "3.8.12"
  }
 },
 "nbformat": 4,
 "nbformat_minor": 2
}
